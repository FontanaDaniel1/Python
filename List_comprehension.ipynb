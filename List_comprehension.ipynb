{
  "nbformat": 4,
  "nbformat_minor": 0,
  "metadata": {
    "colab": {
      "provenance": [],
      "authorship_tag": "ABX9TyMdTkkm4wqbFE4zEac0XGYg",
      "include_colab_link": true
    },
    "kernelspec": {
      "name": "python3",
      "display_name": "Python 3"
    },
    "language_info": {
      "name": "python"
    }
  },
  "cells": [
    {
      "cell_type": "markdown",
      "metadata": {
        "id": "view-in-github",
        "colab_type": "text"
      },
      "source": [
        "<a href=\"https://colab.research.google.com/github/FontanaDaniel1/Python/blob/main/List_comprehension.ipynb\" target=\"_parent\"><img src=\"https://colab.research.google.com/assets/colab-badge.svg\" alt=\"Open In Colab\"/></a>"
      ]
    },
    {
      "cell_type": "markdown",
      "source": [
        "è un metodo per caricare dati in una lista utilizzando il ciclo for all interno della lista stessa"
      ],
      "metadata": {
        "id": "djH0MTlCZAXp"
      }
    },
    {
      "cell_type": "markdown",
      "source": [
        "per poter usare liste comprehension dobbiamo prima saper usare il for"
      ],
      "metadata": {
        "id": "HXQUEo3ydm3y"
      }
    },
    {
      "cell_type": "code",
      "execution_count": null,
      "metadata": {
        "colab": {
          "base_uri": "https://localhost:8080/"
        },
        "id": "B4kbcfDCYabC",
        "outputId": "1fe2c328-6fde-4058-d3c1-764ff90973f5"
      },
      "outputs": [
        {
          "output_type": "stream",
          "name": "stdout",
          "text": [
            "apple\n",
            "banana\n",
            "cherry\n"
          ]
        }
      ],
      "source": [
        "fruits = [\"apple\", \"banana\", \"cherry\"]\n",
        "for x in fruits:\n",
        "  print(x) "
      ]
    },
    {
      "cell_type": "code",
      "source": [
        "for x in \"banana\":\n",
        "  print(x)"
      ],
      "metadata": {
        "colab": {
          "base_uri": "https://localhost:8080/"
        },
        "id": "R-wHqvZDZ9J4",
        "outputId": "7daa0744-412b-4570-d210-1d4c9bf782b4"
      },
      "execution_count": null,
      "outputs": [
        {
          "output_type": "stream",
          "name": "stdout",
          "text": [
            "b\n",
            "a\n",
            "n\n",
            "a\n",
            "n\n",
            "a\n"
          ]
        }
      ]
    },
    {
      "cell_type": "code",
      "source": [
        "fruits = [\"apple\", \"banana\", \"cherry\"]\n",
        "for parola in fruits:\n",
        "  print(parola)\n",
        "  for lettera in parola:\n",
        "    print(lettera)"
      ],
      "metadata": {
        "colab": {
          "base_uri": "https://localhost:8080/"
        },
        "id": "gk42_dnfad4B",
        "outputId": "9f1e8f0a-56d2-4abe-a10d-52fe9347cb6e"
      },
      "execution_count": null,
      "outputs": [
        {
          "output_type": "stream",
          "name": "stdout",
          "text": [
            "apple\n",
            "a\n",
            "p\n",
            "p\n",
            "l\n",
            "e\n",
            "banana\n",
            "b\n",
            "a\n",
            "n\n",
            "a\n",
            "n\n",
            "a\n",
            "cherry\n",
            "c\n",
            "h\n",
            "e\n",
            "r\n",
            "r\n",
            "y\n"
          ]
        }
      ]
    },
    {
      "cell_type": "code",
      "source": [
        "for x in range(6):\n",
        "  print(x)"
      ],
      "metadata": {
        "colab": {
          "base_uri": "https://localhost:8080/"
        },
        "id": "VqBSYHvob97A",
        "outputId": "b347e732-a450-446b-b6bd-c2dad04d468c"
      },
      "execution_count": null,
      "outputs": [
        {
          "output_type": "stream",
          "name": "stdout",
          "text": [
            "0\n",
            "1\n",
            "2\n",
            "3\n",
            "4\n",
            "5\n"
          ]
        }
      ]
    },
    {
      "cell_type": "code",
      "source": [
        "for x in range(10, 16):\n",
        "  print(x)"
      ],
      "metadata": {
        "colab": {
          "base_uri": "https://localhost:8080/"
        },
        "id": "jezbKXTLcBGA",
        "outputId": "f91b9dd8-133f-4661-8a68-3be50f52088d"
      },
      "execution_count": null,
      "outputs": [
        {
          "output_type": "stream",
          "name": "stdout",
          "text": [
            "10\n",
            "11\n",
            "12\n",
            "13\n",
            "14\n",
            "15\n"
          ]
        }
      ]
    },
    {
      "cell_type": "code",
      "source": [
        "for x in range(10, 21, 2):\n",
        "  print(x)"
      ],
      "metadata": {
        "colab": {
          "base_uri": "https://localhost:8080/"
        },
        "id": "MZRgXmA8dL5i",
        "outputId": "b487605d-f73b-4ff5-cce0-ef2aba7fcfa9"
      },
      "execution_count": null,
      "outputs": [
        {
          "output_type": "stream",
          "name": "stdout",
          "text": [
            "10\n",
            "12\n",
            "14\n",
            "16\n",
            "18\n",
            "20\n"
          ]
        }
      ]
    },
    {
      "cell_type": "code",
      "source": [
        "for x in range(21, 10, -1):\n",
        "  print(x)"
      ],
      "metadata": {
        "colab": {
          "base_uri": "https://localhost:8080/"
        },
        "id": "cBK5gu1HdQUP",
        "outputId": "d945128e-2ed4-44f1-f9d0-fa7396c7eac2"
      },
      "execution_count": null,
      "outputs": [
        {
          "output_type": "stream",
          "name": "stdout",
          "text": [
            "21\n",
            "20\n",
            "19\n",
            "18\n",
            "17\n",
            "16\n",
            "15\n",
            "14\n",
            "13\n",
            "12\n",
            "11\n"
          ]
        }
      ]
    },
    {
      "cell_type": "markdown",
      "source": [
        "inizializzare una lista con i primi 10 numeri pari"
      ],
      "metadata": {
        "id": "klbh8etVeCbo"
      }
    },
    {
      "cell_type": "code",
      "source": [
        "[numero for numero in range(0, 20, 2)]"
      ],
      "metadata": {
        "colab": {
          "base_uri": "https://localhost:8080/"
        },
        "id": "Zxoii4MjeLsg",
        "outputId": "e9aafdd7-bddd-42dd-ce7a-1a8157f9d6cc"
      },
      "execution_count": null,
      "outputs": [
        {
          "output_type": "execute_result",
          "data": {
            "text/plain": [
              "[0, 2, 4, 6, 8, 10, 12, 14, 16, 18]"
            ]
          },
          "metadata": {},
          "execution_count": 40
        }
      ]
    },
    {
      "cell_type": "markdown",
      "source": [
        "inizializzare una lista con numeri da 1000 al 2000 estremi compresi"
      ],
      "metadata": {
        "id": "Buqoa_B-ffBQ"
      }
    },
    {
      "cell_type": "code",
      "source": [
        "[numeri for numeri in range(1000, 2001)]"
      ],
      "metadata": {
        "id": "QzMdzQyefjzA"
      },
      "execution_count": null,
      "outputs": []
    },
    {
      "cell_type": "markdown",
      "source": [
        "inizializzare un lista con numeri da 100 a 0"
      ],
      "metadata": {
        "id": "grEXteHKgHOw"
      }
    },
    {
      "cell_type": "code",
      "source": [
        "x = [numeri for numeri in range(99, 0, -1)]\n",
        "print(x)"
      ],
      "metadata": {
        "id": "uWHab9MygNxQ",
        "colab": {
          "base_uri": "https://localhost:8080/"
        },
        "outputId": "a96d23d5-e0ae-4c81-ea5b-09ad86048bea"
      },
      "execution_count": null,
      "outputs": [
        {
          "output_type": "stream",
          "name": "stdout",
          "text": [
            "[99, 98, 97, 96, 95, 94, 93, 92, 91, 90, 89, 88, 87, 86, 85, 84, 83, 82, 81, 80, 79, 78, 77, 76, 75, 74, 73, 72, 71, 70, 69, 68, 67, 66, 65, 64, 63, 62, 61, 60, 59, 58, 57, 56, 55, 54, 53, 52, 51, 50, 49, 48, 47, 46, 45, 44, 43, 42, 41, 40, 39, 38, 37, 36, 35, 34, 33, 32, 31, 30, 29, 28, 27, 26, 25, 24, 23, 22, 21, 20, 19, 18, 17, 16, 15, 14, 13, 12, 11, 10, 9, 8, 7, 6, 5, 4, 3, 2, 1]\n"
          ]
        }
      ]
    },
    {
      "cell_type": "markdown",
      "source": [
        "scrivere un programma che permette all utente di caricare una lista con i primi numeri interi, con n inserito dall utennte. calcolare la somma degli elementi presenti nella lista"
      ],
      "metadata": {
        "id": "5spChF5Qgmtw"
      }
    },
    {
      "cell_type": "code",
      "source": [
        "numero = int(input(\"inserisci num \"))\n",
        "lista = [numero for numero in range(1,numero + 1)]\n",
        "print(lista)\n",
        "sum(lista)"
      ],
      "metadata": {
        "id": "aMrvK1VmhYjC",
        "colab": {
          "base_uri": "https://localhost:8080/"
        },
        "outputId": "c2c2952f-928a-4e65-e5df-e899bb5ac719"
      },
      "execution_count": null,
      "outputs": [
        {
          "output_type": "stream",
          "name": "stdout",
          "text": [
            "inserisci num 13\n",
            "[1, 2, 3, 4, 5, 6, 7, 8, 9, 10, 11, 12, 13]\n"
          ]
        },
        {
          "output_type": "execute_result",
          "data": {
            "text/plain": [
              "91"
            ]
          },
          "metadata": {},
          "execution_count": 1
        }
      ]
    },
    {
      "cell_type": "code",
      "source": [
        "n1 = 10\n",
        "n2 = 8\n",
        "massimo = n1 if n1 > n2 else n2\n",
        "print(massimo)"
      ],
      "metadata": {
        "colab": {
          "base_uri": "https://localhost:8080/"
        },
        "id": "hA5CG7kylPDo",
        "outputId": "db64e4e5-7392-44f9-9892-867975dba231"
      },
      "execution_count": null,
      "outputs": [
        {
          "output_type": "stream",
          "name": "stdout",
          "text": [
            "10\n"
          ]
        }
      ]
    },
    {
      "cell_type": "code",
      "source": [
        "n1 = 10\n",
        "n2 = 8\n",
        "if n1 > n2:\n",
        " massimo = n1\n",
        "else:\n",
        "  massimo = n2\n",
        "print(massimo)"
      ],
      "metadata": {
        "colab": {
          "base_uri": "https://localhost:8080/"
        },
        "id": "ilLbgNccl5Pw",
        "outputId": "4df5c7f0-0fca-44aa-92e4-0831b09db3af"
      },
      "execution_count": null,
      "outputs": [
        {
          "output_type": "stream",
          "name": "stdout",
          "text": [
            "10\n"
          ]
        }
      ]
    },
    {
      "cell_type": "markdown",
      "source": [
        "caricare in una lista i primi 100 numeri interi, visualizzare la lista e caricare in un l altra lista solo i multipli di 5 nella prima lista"
      ],
      "metadata": {
        "id": "LHmLZiyVmdOQ"
      }
    },
    {
      "cell_type": "code",
      "source": [
        "lista1 =  [numero for numero in range(101)]\n",
        "print(lista1)\n",
        "lista2 = []\n",
        "for elemento in lista1:\n",
        "  if elemento % 5 == 0 :\n",
        "    lista2.append(elemento)\n",
        "print(lista2)"
      ],
      "metadata": {
        "colab": {
          "base_uri": "https://localhost:8080/"
        },
        "id": "51l1yMjKmpzJ",
        "outputId": "f407f86e-38c6-4e91-f44c-7d9aef29becd"
      },
      "execution_count": null,
      "outputs": [
        {
          "output_type": "stream",
          "name": "stdout",
          "text": [
            "[0, 1, 2, 3, 4, 5, 6, 7, 8, 9, 10, 11, 12, 13, 14, 15, 16, 17, 18, 19, 20, 21, 22, 23, 24, 25, 26, 27, 28, 29, 30, 31, 32, 33, 34, 35, 36, 37, 38, 39, 40, 41, 42, 43, 44, 45, 46, 47, 48, 49, 50, 51, 52, 53, 54, 55, 56, 57, 58, 59, 60, 61, 62, 63, 64, 65, 66, 67, 68, 69, 70, 71, 72, 73, 74, 75, 76, 77, 78, 79, 80, 81, 82, 83, 84, 85, 86, 87, 88, 89, 90, 91, 92, 93, 94, 95, 96, 97, 98, 99, 100]\n",
            "[0, 5, 10, 15, 20, 25, 30, 35, 40, 45, 50, 55, 60, 65, 70, 75, 80, 85, 90, 95, 100]\n"
          ]
        }
      ]
    },
    {
      "cell_type": "code",
      "source": [
        "lista1 =  [numero for numero in range(101)]\n",
        "print(lista1)\n",
        "lista2 = [elemento if elemento % 5 == 0 for elemento in lista1]\n",
        "#non funge, troppo compatto "
      ],
      "metadata": {
        "id": "uUSPLMJsptyp"
      },
      "execution_count": null,
      "outputs": []
    },
    {
      "cell_type": "markdown",
      "source": [
        "prendere in considerazione i dati su T e P della verifica e trovare \n",
        "1. le h in cui la P è 0\n",
        "2. le h in cui la T è superiore a 20°"
      ],
      "metadata": {
        "id": "t8rOCN98qRBR"
      }
    },
    {
      "cell_type": "code",
      "source": [
        "T = [11, 11, 10, 9, 11, 12, 12, 12, 13, 14, 15, 17, 19, 21, 24, 24, 24, 22, 20, 18, 16, 14, 12, 11]\n",
        "P = [90, 90, 90, 70, 70, 30, 0, 10, 10, 0, 0, 0, 0, 0, 0, 0, 0, 0, 0, 5, 10, 15, 20, 25]\n",
        "\n",
        "ora = 1 \n",
        "for probabilita in P:\n",
        "  if probabilita == 0:\n",
        "    print(ora)\n",
        "  ora += 1\n",
        "\n",
        "print(\"\")\n",
        "ora = 1\n",
        "for temperatura in T:\n",
        "  if temperatura > 20:\n",
        "    print(ora)\n",
        "  ora += 1\n",
        "\n"
      ],
      "metadata": {
        "id": "u4K-4ZpWqxzo"
      },
      "execution_count": null,
      "outputs": []
    },
    {
      "cell_type": "markdown",
      "source": [
        "scrivere un programma che aumenti di 1° tutte le T comprese tra le 10 e le 18 (estremi inclusi)"
      ],
      "metadata": {
        "id": "LESNOVgavQl_"
      }
    },
    {
      "cell_type": "code",
      "source": [
        "lista2 = [numero for numero in range(10,19)]\n",
        "for indice in lista2:\n",
        "   T[indice] += 1\n",
        "   print(T[indice])"
      ],
      "metadata": {
        "colab": {
          "base_uri": "https://localhost:8080/"
        },
        "id": "56m1F8m1Nd-8",
        "outputId": "6e1fdabb-bd86-4646-aced-6f55b1654dac"
      },
      "execution_count": null,
      "outputs": [
        {
          "output_type": "stream",
          "name": "stdout",
          "text": [
            "16\n",
            "18\n",
            "20\n",
            "22\n",
            "25\n",
            "25\n",
            "25\n",
            "23\n",
            "21\n"
          ]
        }
      ]
    },
    {
      "cell_type": "markdown",
      "source": [
        "scrivere un programma che conti il numero di volte in cui la T è stata > di 15° e < di 20°"
      ],
      "metadata": {
        "id": "oFSlfJFtvag5"
      }
    },
    {
      "cell_type": "code",
      "source": [
        "count = 0\n",
        "for val in T: \n",
        " if val > 15 and val < 20:\n",
        "   count += 1\n",
        "print(count)\n",
        "\n"
      ],
      "metadata": {
        "colab": {
          "base_uri": "https://localhost:8080/"
        },
        "id": "fNtz1UncWeFN",
        "outputId": "7bd1d163-7d01-4238-83fd-80a88b2ed59a"
      },
      "execution_count": null,
      "outputs": [
        {
          "output_type": "stream",
          "name": "stdout",
          "text": [
            "4\n"
          ]
        }
      ]
    },
    {
      "cell_type": "markdown",
      "source": [
        "scrivere un programma che per ogni h sommi T e P"
      ],
      "metadata": {
        "id": "SlPuLx8nvvAB"
      }
    },
    {
      "cell_type": "code",
      "source": [
        "lista3 = [numero for numero in range(24)]\n",
        "for indice in lista3:\n",
        "    somma = T[indice] + P[indice]\n",
        "    print(somma)\n",
        "\n",
        "print(\"\")\n",
        "\n",
        "# come indico al programma di scorrere i valori tra 0 e 23 senza usare una lista ?\n",
        "\n",
        "#for indice in range[0,23,1]:\n",
        "    #somma = T[indice] + P[indice]\n",
        "    #print(somma)"
      ],
      "metadata": {
        "colab": {
          "base_uri": "https://localhost:8080/",
          "height": 669
        },
        "id": "DFtIdStuXnHf",
        "outputId": "6c3cbb63-1876-41be-8496-fc594bf73b87"
      },
      "execution_count": null,
      "outputs": [
        {
          "output_type": "stream",
          "name": "stdout",
          "text": [
            "101\n",
            "101\n",
            "100\n",
            "79\n",
            "81\n",
            "42\n",
            "12\n",
            "22\n",
            "23\n",
            "14\n",
            "16\n",
            "18\n",
            "20\n",
            "22\n",
            "25\n",
            "25\n",
            "25\n",
            "23\n",
            "21\n",
            "23\n",
            "26\n",
            "29\n",
            "32\n",
            "36\n",
            "\n"
          ]
        },
        {
          "output_type": "error",
          "ename": "TypeError",
          "evalue": "ignored",
          "traceback": [
            "\u001b[0;31m---------------------------------------------------------------------------\u001b[0m",
            "\u001b[0;31mTypeError\u001b[0m                                 Traceback (most recent call last)",
            "\u001b[0;32m<ipython-input-55-1328e946de10>\u001b[0m in \u001b[0;36m<module>\u001b[0;34m\u001b[0m\n\u001b[1;32m      6\u001b[0m \u001b[0mprint\u001b[0m\u001b[0;34m(\u001b[0m\u001b[0;34m\"\"\u001b[0m\u001b[0;34m)\u001b[0m\u001b[0;34m\u001b[0m\u001b[0;34m\u001b[0m\u001b[0m\n\u001b[1;32m      7\u001b[0m \u001b[0;34m\u001b[0m\u001b[0m\n\u001b[0;32m----> 8\u001b[0;31m \u001b[0;32mfor\u001b[0m \u001b[0mindice\u001b[0m \u001b[0;32min\u001b[0m \u001b[0mrange\u001b[0m\u001b[0;34m[\u001b[0m\u001b[0;36m0\u001b[0m\u001b[0;34m,\u001b[0m\u001b[0;36m23\u001b[0m\u001b[0;34m,\u001b[0m\u001b[0;36m1\u001b[0m\u001b[0;34m]\u001b[0m\u001b[0;34m:\u001b[0m\u001b[0;34m\u001b[0m\u001b[0;34m\u001b[0m\u001b[0m\n\u001b[0m\u001b[1;32m      9\u001b[0m     \u001b[0msomma\u001b[0m \u001b[0;34m=\u001b[0m \u001b[0mT\u001b[0m\u001b[0;34m[\u001b[0m\u001b[0mindice\u001b[0m\u001b[0;34m]\u001b[0m \u001b[0;34m+\u001b[0m \u001b[0mP\u001b[0m\u001b[0;34m[\u001b[0m\u001b[0mindice\u001b[0m\u001b[0;34m]\u001b[0m\u001b[0;34m\u001b[0m\u001b[0;34m\u001b[0m\u001b[0m\n\u001b[1;32m     10\u001b[0m     \u001b[0mprint\u001b[0m\u001b[0;34m(\u001b[0m\u001b[0msomma\u001b[0m\u001b[0;34m)\u001b[0m\u001b[0;34m\u001b[0m\u001b[0;34m\u001b[0m\u001b[0m\n",
            "\u001b[0;31mTypeError\u001b[0m: 'type' object is not subscriptable"
          ]
        }
      ]
    }
  ]
}