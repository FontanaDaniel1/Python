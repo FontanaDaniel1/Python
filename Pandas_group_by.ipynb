{
  "nbformat": 4,
  "nbformat_minor": 0,
  "metadata": {
    "colab": {
      "provenance": [],
      "authorship_tag": "ABX9TyO+Ab2glK00AAfEtO6DbyVB",
      "include_colab_link": true
    },
    "kernelspec": {
      "name": "python3",
      "display_name": "Python 3"
    },
    "language_info": {
      "name": "python"
    }
  },
  "cells": [
    {
      "cell_type": "markdown",
      "metadata": {
        "id": "view-in-github",
        "colab_type": "text"
      },
      "source": [
        "<a href=\"https://colab.research.google.com/github/FontanaDaniel1/Python/blob/main/Pandas_group_by.ipynb\" target=\"_parent\"><img src=\"https://colab.research.google.com/assets/colab-badge.svg\" alt=\"Open In Colab\"/></a>"
      ]
    },
    {
      "cell_type": "code",
      "execution_count": null,
      "metadata": {
        "colab": {
          "base_uri": "https://localhost:8080/",
          "height": 424
        },
        "id": "7yfyoNek9PTU",
        "outputId": "f09c1eda-b062-4cd7-d9c4-2ec69cd3ef59"
      },
      "outputs": [
        {
          "output_type": "execute_result",
          "data": {
            "text/plain": [
              "              Name      Discipline                         NOC  Event\n",
              "0          Belgium  3x3 Basketball                     Belgium    Men\n",
              "1            China  3x3 Basketball  People's Republic of China    Men\n",
              "2            China  3x3 Basketball  People's Republic of China  Women\n",
              "3           France  3x3 Basketball                      France  Women\n",
              "4            Italy  3x3 Basketball                       Italy  Women\n",
              "..             ...             ...                         ...    ...\n",
              "738   South Africa      Water Polo                South Africa  Women\n",
              "739          Spain      Water Polo                       Spain    Men\n",
              "740          Spain      Water Polo                       Spain  Women\n",
              "741  United States      Water Polo    United States of America    Men\n",
              "742  United States      Water Polo    United States of America  Women\n",
              "\n",
              "[743 rows x 4 columns]"
            ],
            "text/html": [
              "\n",
              "  <div id=\"df-95978629-9d0b-4557-925c-84622da0f479\">\n",
              "    <div class=\"colab-df-container\">\n",
              "      <div>\n",
              "<style scoped>\n",
              "    .dataframe tbody tr th:only-of-type {\n",
              "        vertical-align: middle;\n",
              "    }\n",
              "\n",
              "    .dataframe tbody tr th {\n",
              "        vertical-align: top;\n",
              "    }\n",
              "\n",
              "    .dataframe thead th {\n",
              "        text-align: right;\n",
              "    }\n",
              "</style>\n",
              "<table border=\"1\" class=\"dataframe\">\n",
              "  <thead>\n",
              "    <tr style=\"text-align: right;\">\n",
              "      <th></th>\n",
              "      <th>Name</th>\n",
              "      <th>Discipline</th>\n",
              "      <th>NOC</th>\n",
              "      <th>Event</th>\n",
              "    </tr>\n",
              "  </thead>\n",
              "  <tbody>\n",
              "    <tr>\n",
              "      <th>0</th>\n",
              "      <td>Belgium</td>\n",
              "      <td>3x3 Basketball</td>\n",
              "      <td>Belgium</td>\n",
              "      <td>Men</td>\n",
              "    </tr>\n",
              "    <tr>\n",
              "      <th>1</th>\n",
              "      <td>China</td>\n",
              "      <td>3x3 Basketball</td>\n",
              "      <td>People's Republic of China</td>\n",
              "      <td>Men</td>\n",
              "    </tr>\n",
              "    <tr>\n",
              "      <th>2</th>\n",
              "      <td>China</td>\n",
              "      <td>3x3 Basketball</td>\n",
              "      <td>People's Republic of China</td>\n",
              "      <td>Women</td>\n",
              "    </tr>\n",
              "    <tr>\n",
              "      <th>3</th>\n",
              "      <td>France</td>\n",
              "      <td>3x3 Basketball</td>\n",
              "      <td>France</td>\n",
              "      <td>Women</td>\n",
              "    </tr>\n",
              "    <tr>\n",
              "      <th>4</th>\n",
              "      <td>Italy</td>\n",
              "      <td>3x3 Basketball</td>\n",
              "      <td>Italy</td>\n",
              "      <td>Women</td>\n",
              "    </tr>\n",
              "    <tr>\n",
              "      <th>...</th>\n",
              "      <td>...</td>\n",
              "      <td>...</td>\n",
              "      <td>...</td>\n",
              "      <td>...</td>\n",
              "    </tr>\n",
              "    <tr>\n",
              "      <th>738</th>\n",
              "      <td>South Africa</td>\n",
              "      <td>Water Polo</td>\n",
              "      <td>South Africa</td>\n",
              "      <td>Women</td>\n",
              "    </tr>\n",
              "    <tr>\n",
              "      <th>739</th>\n",
              "      <td>Spain</td>\n",
              "      <td>Water Polo</td>\n",
              "      <td>Spain</td>\n",
              "      <td>Men</td>\n",
              "    </tr>\n",
              "    <tr>\n",
              "      <th>740</th>\n",
              "      <td>Spain</td>\n",
              "      <td>Water Polo</td>\n",
              "      <td>Spain</td>\n",
              "      <td>Women</td>\n",
              "    </tr>\n",
              "    <tr>\n",
              "      <th>741</th>\n",
              "      <td>United States</td>\n",
              "      <td>Water Polo</td>\n",
              "      <td>United States of America</td>\n",
              "      <td>Men</td>\n",
              "    </tr>\n",
              "    <tr>\n",
              "      <th>742</th>\n",
              "      <td>United States</td>\n",
              "      <td>Water Polo</td>\n",
              "      <td>United States of America</td>\n",
              "      <td>Women</td>\n",
              "    </tr>\n",
              "  </tbody>\n",
              "</table>\n",
              "<p>743 rows × 4 columns</p>\n",
              "</div>\n",
              "      <button class=\"colab-df-convert\" onclick=\"convertToInteractive('df-95978629-9d0b-4557-925c-84622da0f479')\"\n",
              "              title=\"Convert this dataframe to an interactive table.\"\n",
              "              style=\"display:none;\">\n",
              "        \n",
              "  <svg xmlns=\"http://www.w3.org/2000/svg\" height=\"24px\"viewBox=\"0 0 24 24\"\n",
              "       width=\"24px\">\n",
              "    <path d=\"M0 0h24v24H0V0z\" fill=\"none\"/>\n",
              "    <path d=\"M18.56 5.44l.94 2.06.94-2.06 2.06-.94-2.06-.94-.94-2.06-.94 2.06-2.06.94zm-11 1L8.5 8.5l.94-2.06 2.06-.94-2.06-.94L8.5 2.5l-.94 2.06-2.06.94zm10 10l.94 2.06.94-2.06 2.06-.94-2.06-.94-.94-2.06-.94 2.06-2.06.94z\"/><path d=\"M17.41 7.96l-1.37-1.37c-.4-.4-.92-.59-1.43-.59-.52 0-1.04.2-1.43.59L10.3 9.45l-7.72 7.72c-.78.78-.78 2.05 0 2.83L4 21.41c.39.39.9.59 1.41.59.51 0 1.02-.2 1.41-.59l7.78-7.78 2.81-2.81c.8-.78.8-2.07 0-2.86zM5.41 20L4 18.59l7.72-7.72 1.47 1.35L5.41 20z\"/>\n",
              "  </svg>\n",
              "      </button>\n",
              "      \n",
              "  <style>\n",
              "    .colab-df-container {\n",
              "      display:flex;\n",
              "      flex-wrap:wrap;\n",
              "      gap: 12px;\n",
              "    }\n",
              "\n",
              "    .colab-df-convert {\n",
              "      background-color: #E8F0FE;\n",
              "      border: none;\n",
              "      border-radius: 50%;\n",
              "      cursor: pointer;\n",
              "      display: none;\n",
              "      fill: #1967D2;\n",
              "      height: 32px;\n",
              "      padding: 0 0 0 0;\n",
              "      width: 32px;\n",
              "    }\n",
              "\n",
              "    .colab-df-convert:hover {\n",
              "      background-color: #E2EBFA;\n",
              "      box-shadow: 0px 1px 2px rgba(60, 64, 67, 0.3), 0px 1px 3px 1px rgba(60, 64, 67, 0.15);\n",
              "      fill: #174EA6;\n",
              "    }\n",
              "\n",
              "    [theme=dark] .colab-df-convert {\n",
              "      background-color: #3B4455;\n",
              "      fill: #D2E3FC;\n",
              "    }\n",
              "\n",
              "    [theme=dark] .colab-df-convert:hover {\n",
              "      background-color: #434B5C;\n",
              "      box-shadow: 0px 1px 3px 1px rgba(0, 0, 0, 0.15);\n",
              "      filter: drop-shadow(0px 1px 2px rgba(0, 0, 0, 0.3));\n",
              "      fill: #FFFFFF;\n",
              "    }\n",
              "  </style>\n",
              "\n",
              "      <script>\n",
              "        const buttonEl =\n",
              "          document.querySelector('#df-95978629-9d0b-4557-925c-84622da0f479 button.colab-df-convert');\n",
              "        buttonEl.style.display =\n",
              "          google.colab.kernel.accessAllowed ? 'block' : 'none';\n",
              "\n",
              "        async function convertToInteractive(key) {\n",
              "          const element = document.querySelector('#df-95978629-9d0b-4557-925c-84622da0f479');\n",
              "          const dataTable =\n",
              "            await google.colab.kernel.invokeFunction('convertToInteractive',\n",
              "                                                     [key], {});\n",
              "          if (!dataTable) return;\n",
              "\n",
              "          const docLinkHtml = 'Like what you see? Visit the ' +\n",
              "            '<a target=\"_blank\" href=https://colab.research.google.com/notebooks/data_table.ipynb>data table notebook</a>'\n",
              "            + ' to learn more about interactive tables.';\n",
              "          element.innerHTML = '';\n",
              "          dataTable['output_type'] = 'display_data';\n",
              "          await google.colab.output.renderOutput(dataTable, element);\n",
              "          const docLink = document.createElement('div');\n",
              "          docLink.innerHTML = docLinkHtml;\n",
              "          element.appendChild(docLink);\n",
              "        }\n",
              "      </script>\n",
              "    </div>\n",
              "  </div>\n",
              "  "
            ]
          },
          "metadata": {},
          "execution_count": 52
        }
      ],
      "source": [
        "import pandas as pd\n",
        "\n",
        "df = pd.read_excel('https://raw.githubusercontent.com/wtitze/3E/main/Teams.xlsx')\n",
        "df"
      ]
    },
    {
      "cell_type": "markdown",
      "source": [
        "1.quante sono le squadre italiane"
      ],
      "metadata": {
        "id": "MemRTVlB-gtJ"
      }
    },
    {
      "cell_type": "code",
      "source": [
        "df[df.Name == 'Italy'].count()['Name']"
      ],
      "metadata": {
        "id": "LpsVAlf2-lUB"
      },
      "execution_count": null,
      "outputs": []
    },
    {
      "cell_type": "markdown",
      "source": [
        "squadre tedesche"
      ],
      "metadata": {
        "id": "GAjy3etT_ORx"
      }
    },
    {
      "cell_type": "code",
      "source": [
        "df[df.Name == 'Germany'].count()['Name']"
      ],
      "metadata": {
        "colab": {
          "base_uri": "https://localhost:8080/"
        },
        "id": "T2fog9Xm_Gep",
        "outputId": "32c41adb-2aad-44f9-9be6-fcaff0f72350"
      },
      "execution_count": null,
      "outputs": [
        {
          "output_type": "execute_result",
          "data": {
            "text/plain": [
              "32"
            ]
          },
          "metadata": {},
          "execution_count": 22
        }
      ]
    },
    {
      "cell_type": "markdown",
      "source": [
        "squadre di ogni nazione"
      ],
      "metadata": {
        "id": "U-qx9aYj_bqB"
      }
    },
    {
      "cell_type": "code",
      "source": [
        "dfgroup = df.groupby('Name').count()[['NOC']] \n",
        "dfgroup"
      ],
      "metadata": {
        "id": "s_bVrD73_eHQ"
      },
      "execution_count": null,
      "outputs": []
    },
    {
      "cell_type": "code",
      "source": [
        "dfgroup[dfgroup['NOC'] > 10] #stati con più di 10 squadre"
      ],
      "metadata": {
        "id": "ZVpS9EUCBrAh"
      },
      "execution_count": null,
      "outputs": []
    },
    {
      "cell_type": "code",
      "source": [
        "dfgroup = df.groupby('Name').count().reset_index()[['NOC']] \n",
        "dfgroup"
      ],
      "metadata": {
        "id": "lZjwuwLWB7cQ"
      },
      "execution_count": null,
      "outputs": []
    },
    {
      "cell_type": "markdown",
      "source": [
        "                                                                    sercitazione"
      ],
      "metadata": {
        "id": "X6BzK57oEooX"
      }
    },
    {
      "cell_type": "code",
      "source": [
        "import pandas as pd\n",
        "\n",
        "df = pd.read_csv('https://raw.githubusercontent.com/wtitze/3E/main/2010.csv', sep=';')\n",
        "df"
      ],
      "metadata": {
        "id": "abfCnka0Da9Z"
      },
      "execution_count": null,
      "outputs": []
    },
    {
      "cell_type": "markdown",
      "source": [
        "1. il numero di film per ogni lingua. Ordinare in ordine decrescente sul numero di film"
      ],
      "metadata": {
        "id": "DJLmQOnLC4Sw"
      }
    },
    {
      "cell_type": "code",
      "source": [
        "dfgroup = df.groupby('Language').count().sort_values(by = 'Title', ascending = False)[['Title']]\n",
        "dfgroup"
      ],
      "metadata": {
        "id": "JkqIyjgXC42g"
      },
      "execution_count": null,
      "outputs": []
    },
    {
      "cell_type": "markdown",
      "source": [
        "2. il numero di film per ogni nazione."
      ],
      "metadata": {
        "id": "QDiU0TEyC6ZY"
      }
    },
    {
      "cell_type": "code",
      "source": [
        "dfgroup = df.groupby('Country').count().sort_values(by = 'Title', ascending = False)[['Title']] \n",
        "dfgroup"
      ],
      "metadata": {
        "id": "zHbkND6UC7fB"
      },
      "execution_count": null,
      "outputs": []
    },
    {
      "cell_type": "markdown",
      "source": [
        "3. il budget totale che ogni nazione ha investito nei film. Ordinare in ordine decrescente base al budget totale\n"
      ],
      "metadata": {
        "id": "-qALx2AbC6U3"
      }
    },
    {
      "cell_type": "code",
      "source": [
        "dfgroup = df.groupby('Country').sum().sort_values(by = 'Budget', ascending = False)[['Budget']]\n",
        "dfgroup"
      ],
      "metadata": {
        "id": "gdGGsFDmDAII"
      },
      "execution_count": null,
      "outputs": []
    },
    {
      "cell_type": "markdown",
      "source": [
        "4. la nazione che ha investito il budget più alto"
      ],
      "metadata": {
        "id": "FGeMBjeJDAp4"
      }
    },
    {
      "cell_type": "code",
      "source": [
        "dfgroup = df.groupby('Country').sum().sort_values(by = 'Budget', ascending = False)[['Budget']]\n",
        "dfgroup[dfgroup['Budget'] == dfgroup['Budget'].max()]"
      ],
      "metadata": {
        "id": "On06bS-IDHUA"
      },
      "execution_count": null,
      "outputs": []
    },
    {
      "cell_type": "markdown",
      "source": [
        "5. il budget medio che ogni nazione ha investito nei film. Ordinare in ordine decrescente base al budget medio\n"
      ],
      "metadata": {
        "id": "kUixWwmvDHri"
      }
    },
    {
      "cell_type": "code",
      "source": [
        "df.groupby ('Country')[['Budget']].mean().sort_values(by = 'Budget', ascending = False)"
      ],
      "metadata": {
        "id": "LRJFFETCDICw"
      },
      "execution_count": null,
      "outputs": []
    },
    {
      "cell_type": "markdown",
      "source": [
        "\n",
        "6. le nazioni che hanno investito, in media, un budget più basso rispetto alla media complessiva dei budget delle nazioni"
      ],
      "metadata": {
        "id": "Gt32puxcDJ3Q"
      }
    },
    {
      "cell_type": "code",
      "source": [
        "media_film = df.Budget.mean()\n",
        "media_film\n",
        "\n",
        "mediapernazione = df.groupby('Country')[['Budget']].mean()\n",
        "mediapernazione\n",
        "\n",
        "mediapernazione[mediapernazione.Budget < media_film] "
      ],
      "metadata": {
        "id": "Fof61DH9DKMI"
      },
      "execution_count": null,
      "outputs": []
    },
    {
      "cell_type": "markdown",
      "source": [
        "7. il numero di film per ogni regista"
      ],
      "metadata": {
        "id": "joa-K6roDL-S"
      }
    },
    {
      "cell_type": "code",
      "source": [
        "dfgroup = df.groupby('Director').count()[['Title']]\n",
        "dfgroup"
      ],
      "metadata": {
        "id": "JUqRc92JDMr4"
      },
      "execution_count": null,
      "outputs": []
    },
    {
      "cell_type": "markdown",
      "source": [
        "8. il regista che ha diretto più film"
      ],
      "metadata": {
        "id": "pC8-NJNbDObP"
      }
    },
    {
      "cell_type": "code",
      "source": [
        "#dfgroup = df.groupby('Director').count()[['Title']]\n",
        "dfgroup['Title'].max()\n",
        "dfgroup[dfgroup['Title'] == dfgroup['Title'].max()]"
      ],
      "metadata": {
        "id": "qexVWH_iDOVI"
      },
      "execution_count": null,
      "outputs": []
    },
    {
      "cell_type": "markdown",
      "source": [
        "9. il numero di film per ogni genere"
      ],
      "metadata": {
        "id": "ZDFiIHaUDPWh"
      }
    },
    {
      "cell_type": "code",
      "source": [
        "dfgroup = df.groupby('Genres').count()[['Title']]\n",
        "dfgroup"
      ],
      "metadata": {
        "id": "1AL8KnCQExNg"
      },
      "execution_count": null,
      "outputs": []
    }
  ]
}