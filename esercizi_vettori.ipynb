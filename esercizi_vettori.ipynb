{
  "nbformat": 4,
  "nbformat_minor": 0,
  "metadata": {
    "colab": {
      "provenance": [],
      "include_colab_link": true
    },
    "kernelspec": {
      "name": "python3",
      "display_name": "Python 3"
    },
    "language_info": {
      "name": "python"
    }
  },
  "cells": [
    {
      "cell_type": "markdown",
      "metadata": {
        "id": "view-in-github",
        "colab_type": "text"
      },
      "source": [
        "<a href=\"https://colab.research.google.com/github/FontanaDaniel1/Python/blob/main/esercizi_vettori.ipynb\" target=\"_parent\"><img src=\"https://colab.research.google.com/assets/colab-badge.svg\" alt=\"Open In Colab\"/></a>"
      ]
    },
    {
      "cell_type": "markdown",
      "source": [
        "Scrivere al di sotto di ogni esercizio il codice richiesto. Al termine, consegnare su classroom il notebook realizzato."
      ],
      "metadata": {
        "id": "u24Wx-pXrz4j"
      }
    },
    {
      "cell_type": "markdown",
      "source": [
        "0. assegnare alle variabili x, y e z i valori 10, 20 e 30 in un'unica istruzione. Assegnare alle variabili a, b e c il valore 100 sempre in un'unica istruzione"
      ],
      "metadata": {
        "id": "ym0EsAfkyxmz"
      }
    },
    {
      "cell_type": "code",
      "source": [
        "print (\"x = 10, y = 20, z = 30\")\n",
        "print (\"a, b, c = 100\")"
      ],
      "metadata": {
        "id": "K6G4zgcCzAAz"
      },
      "execution_count": null,
      "outputs": []
    },
    {
      "cell_type": "markdown",
      "source": [
        "1. far inserire all'utente due numeri interi, scambiarli e visualizzarli"
      ],
      "metadata": {
        "id": "_w3ESGmCr7SL"
      }
    },
    {
      "cell_type": "code",
      "source": [
        "n1 = input (\"Inserisci il primo numero \")\n",
        "n2 = input (\"Inserisci il secondo numero \")\n",
        "\n",
        "print (\"a =\", n1)\n",
        "print (\"B =\", n2)\n",
        "\n",
        "\n",
        "print (\"inverti\", n2 )\n",
        "print (\"inverti\", n1)"
      ],
      "metadata": {
        "id": "z5zHMYWlseti"
      },
      "execution_count": null,
      "outputs": []
    },
    {
      "cell_type": "markdown",
      "source": [
        "2. far inserire all'utente due numeri e calcolare lìelevamento a potenza del primo per il secondo. Provare poi a vedere qualk è l amasisma potenza del 2 che Python riece a calcolare: lo smartphone è altrettanto potente?"
      ],
      "metadata": {
        "id": "dkojX3qusGJi"
      }
    },
    {
      "cell_type": "code",
      "source": [],
      "metadata": {
        "id": "pYzftTyguOAc"
      },
      "execution_count": null,
      "outputs": []
    },
    {
      "cell_type": "markdown",
      "source": [
        "3. far inserire all'utente tre numeri e visualizzare il massimo dei tre"
      ],
      "metadata": {
        "id": "PYqK5w8yseCy"
      }
    },
    {
      "cell_type": "code",
      "source": [
        "n1 = input (\"Inserisci il primo numero \")\n",
        "n2 = input (\"Inserisci il secondo numero \")\n",
        "n3 = input (\"Inserisci il terzo numero \")\n",
        "\n",
        "if n1 > n2 and n3: \n",
        "  print  (\"valore max =\", n1)\n",
        "elif n2 > n1 and n2:\n",
        "  print  (\"valore max =\", n2)\n",
        "elif n3 > n1 and n2:\n",
        "  print  (\"valore max =\", n3)\n"
      ],
      "metadata": {
        "id": "pJSumYgPsmAb"
      },
      "execution_count": null,
      "outputs": []
    },
    {
      "cell_type": "markdown",
      "source": [
        "4. dati tre numeri, dire se con quei tre numeri possiamo costruire un triangolo"
      ],
      "metadata": {
        "id": "sJJHEnXXsmeL"
      }
    },
    {
      "cell_type": "code",
      "source": [],
      "metadata": {
        "id": "u6iI2qeosvlS"
      },
      "execution_count": null,
      "outputs": []
    },
    {
      "cell_type": "markdown",
      "source": [
        "5. far inserire dall'utente le misure di due cateti di un triangolo rettangolo (valori reali) e calcolare l'area del rettangolo e l'ipotenusa"
      ],
      "metadata": {
        "id": "zeDmm2t9sxER"
      }
    },
    {
      "cell_type": "code",
      "source": [],
      "metadata": {
        "id": "MJ2jzq4PtSti"
      },
      "execution_count": null,
      "outputs": []
    },
    {
      "cell_type": "markdown",
      "source": [
        "6. far inserire un numero intero dall'utente e dire se è pari o dispari"
      ],
      "metadata": {
        "id": "64dgOKMRtTDq"
      }
    },
    {
      "cell_type": "code",
      "source": [
        "n1 = input (\"Inserisci il numero: \" )\n",
        "\n",
        "\n",
        "print (n1)\n",
        "if int(n1) % 2 == 0:\n",
        " print(\"pari\") \n",
        "else :\n",
        "  print (\"dispari\")\n"
      ],
      "metadata": {
        "id": "W7fI6Ej8t8Z6"
      },
      "execution_count": null,
      "outputs": []
    },
    {
      "cell_type": "markdown",
      "source": [
        "7. far inserire all'utente il valore di una temperatura in gradi centigradi e convertirlo in gradi fahrenheit"
      ],
      "metadata": {
        "id": "V16n7CsCuUXC"
      }
    },
    {
      "cell_type": "code",
      "source": [],
      "metadata": {
        "id": "DUlV468iuhE7"
      },
      "execution_count": null,
      "outputs": []
    },
    {
      "cell_type": "markdown",
      "source": [
        "8. far inserire all'utente il valore di una temperatura in gradi centigradi e convertirlo in gradi fahrenheit"
      ],
      "metadata": {
        "id": "TRbh4pEwuher"
      }
    },
    {
      "cell_type": "code",
      "source": [
        "#da fahrenheit a centrigradi"
      ],
      "metadata": {
        "id": "CNwCDAIFup-K"
      },
      "execution_count": null,
      "outputs": []
    },
    {
      "cell_type": "markdown",
      "source": [
        "9. far inserire all'utente una velocità in Km/h e visualizzare la stessa velocità in metri al secondo"
      ],
      "metadata": {
        "id": "YRjS88gtuqeC"
      }
    },
    {
      "cell_type": "code",
      "source": [
        "Km = input (\"\")\n",
        "Km = int(Km) / 3.6\n",
        "print (Km)\n",
        "\n"
      ],
      "metadata": {
        "id": "Wricx3yyx3tb"
      },
      "execution_count": null,
      "outputs": []
    },
    {
      "cell_type": "markdown",
      "source": [
        "10. far inserire all'utente il raggio di un cerchio e visualizzarne il diametro e l'area"
      ],
      "metadata": {
        "id": "ltgIq2OGx4I7"
      }
    },
    {
      "cell_type": "code",
      "source": [],
      "metadata": {
        "id": "BpbAnnUOzjGD"
      },
      "execution_count": null,
      "outputs": []
    },
    {
      "cell_type": "markdown",
      "source": [
        "11. far inserire all'utente il suo nome e poi il suo cognome e visualizzare il suo cognome e il suo nome separati da uno spazio"
      ],
      "metadata": {
        "id": "M18Obb-Gzjdq"
      }
    },
    {
      "cell_type": "code",
      "source": [
        "nome = input(\"\")\n",
        "cognome = input (\"\")\n",
        "\n",
        "print(cognome, \"\", nome)"
      ],
      "metadata": {
        "id": "w2C_ln0LzwPa"
      },
      "execution_count": null,
      "outputs": []
    },
    {
      "cell_type": "markdown",
      "source": [
        "12. far inserire all'utente un numero e visualizzare il suo valore assoluto"
      ],
      "metadata": {
        "id": "BS9gBYBUzwp7"
      }
    },
    {
      "cell_type": "code",
      "source": [
        "numero = input (\"\")\n",
        "if numero < 0: \n"
      ],
      "metadata": {
        "id": "KOZrphgUz89a"
      },
      "execution_count": null,
      "outputs": []
    },
    {
      "cell_type": "markdown",
      "source": [
        "13. far inserire all'utente un voto e controllare che sia compreso tra 1 e 10, estremi inclusi, Se è compreso visualizzare la stringa 'OK' altrimenti visualizzare la stringa 'KO'"
      ],
      "metadata": {
        "id": "j1tl_8INz9ZS"
      }
    },
    {
      "cell_type": "code",
      "source": [
        "\n",
        "n1 = input(\"\")\n",
        "\n",
        "if float(n1) < 0 and float(n1) > 10:\n",
        " print (\"OK\")\n",
        "else:\n",
        " print (\"KO\")\n"
      ],
      "metadata": {
        "id": "7Cgqx9K20ccr"
      },
      "execution_count": null,
      "outputs": []
    },
    {
      "cell_type": "markdown",
      "source": [
        "14. far inserire all'utente due numeri e dire se uno è multiplo dell'altro. Ad esempio se l'utente inserisse i valori 60 e 15 il programma dovrebbe visualizzare la stringa '60 è un multiplo di 15'. Stessa cosa se l'utente inserisse prima il 15 e poi il 60., Se non sono multipli, visualizzare un messaggio appropriato"
      ],
      "metadata": {
        "id": "3PIY9PvH0c06"
      }
    },
    {
      "cell_type": "code",
      "source": [
        "\n",
        "n1 = input(\"\")\n",
        "n2 = input(\"\")\n",
        "\n",
        "if n1 % n2 = 0:\n",
        "\n",
        "  print(n2, \"è un multiplo di\", n1)\n"
      ],
      "metadata": {
        "id": "VS8xJJQZ1FfS"
      },
      "execution_count": null,
      "outputs": []
    },
    {
      "cell_type": "markdown",
      "source": [
        "15. far inserire all'utente la durata di un periodi di tempo in ore, minuti e secodni e convertirlo in secondi"
      ],
      "metadata": {
        "id": "444w9p761F7j"
      }
    },
    {
      "cell_type": "code",
      "source": [
        "tempo = input(\"\")\n",
        "x = tempo\n",
        "\n",
        "tempo = float(tempo) * 60\n",
        "print (\"minuti\", tempo)\n",
        "\n",
        "x = float(x) * 3600\n",
        "print (\"secondi\", x)"
      ],
      "metadata": {
        "id": "S0xfdzxW1ijl"
      },
      "execution_count": null,
      "outputs": []
    },
    {
      "cell_type": "markdown",
      "source": [
        "16. far inserire all'utente la durata di un periodo in secondi e convertirlo in ore, minuti e secondi"
      ],
      "metadata": {
        "id": "3KaGzt4U1jA7"
      }
    },
    {
      "cell_type": "code",
      "source": [
        "tempo = input (\"\")\n",
        "x = tempo\n",
        "\n",
        "tempo = float(tempo) / 3600\n",
        "print (\"ore\", tempo)\n",
        "\n",
        "x = float(x) / 60 \n",
        "print (\"minuti\", x)\n",
        "\n",
        "\n",
        "\n"
      ],
      "metadata": {
        "id": "wAwF6xB-10YD"
      },
      "execution_count": null,
      "outputs": []
    }
  ]
}