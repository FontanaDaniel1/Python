{
  "nbformat": 4,
  "nbformat_minor": 0,
  "metadata": {
    "colab": {
      "provenance": [],
      "authorship_tag": "ABX9TyP57CNYD9v3NLpMWPccQx/7",
      "include_colab_link": true
    },
    "kernelspec": {
      "name": "python3",
      "display_name": "Python 3"
    },
    "language_info": {
      "name": "python"
    }
  },
  "cells": [
    {
      "cell_type": "markdown",
      "metadata": {
        "id": "view-in-github",
        "colab_type": "text"
      },
      "source": [
        "<a href=\"https://colab.research.google.com/github/FontanaDaniel1/Python/blob/main/Tuple.ipynb\" target=\"_parent\"><img src=\"https://colab.research.google.com/assets/colab-badge.svg\" alt=\"Open In Colab\"/></a>"
      ]
    },
    {
      "cell_type": "markdown",
      "source": [
        "una tupla è una struttura dati ordinata e non modificabile. si forma con le parentesi tonde"
      ],
      "metadata": {
        "id": "UUWi_rkzPuR6"
      }
    },
    {
      "cell_type": "code",
      "execution_count": 1,
      "metadata": {
        "colab": {
          "base_uri": "https://localhost:8080/"
        },
        "id": "A_AObxzOPr1O",
        "outputId": "06712cd6-7481-4d94-c1f9-592a679d24f8"
      },
      "outputs": [
        {
          "output_type": "stream",
          "name": "stdout",
          "text": [
            "(1, 2, 3, 4, 5)\n"
          ]
        }
      ],
      "source": [
        "tupla1 = (1,2,3,4,5)\n",
        "print(tupla1)"
      ]
    },
    {
      "cell_type": "markdown",
      "source": [
        "gli elementi delle tuple sono ordinati, non modificabili, e consentono valori duplicati. si"
      ],
      "metadata": {
        "id": "zrQgBIA0QKi0"
      }
    },
    {
      "cell_type": "code",
      "source": [
        "tupla2= (\"prova\",)\n",
        "print(tupla2)\n",
        "\n",
        "print(type(tupla2)) #printa la classe\n",
        "\n",
        "tupla2= (\"prova\")\n",
        "print(type(tupla2)) #senza virgola"
      ],
      "metadata": {
        "colab": {
          "base_uri": "https://localhost:8080/"
        },
        "id": "2o3MKk06Qn64",
        "outputId": "16d4eaa9-eb0b-4782-c8c9-8ef680d3d35d"
      },
      "execution_count": 11,
      "outputs": [
        {
          "output_type": "stream",
          "name": "stdout",
          "text": [
            "('prova',)\n",
            "<class 'tuple'>\n",
            "<class 'str'>\n"
          ]
        }
      ]
    },
    {
      "cell_type": "code",
      "source": [
        "prova =tuple([\"ciao\", 24])\n",
        "print(prova)"
      ],
      "metadata": {
        "colab": {
          "base_uri": "https://localhost:8080/"
        },
        "id": "TXQeFM7LSOl5",
        "outputId": "7cc6ace5-301e-40ce-9069-16c7c4324649"
      },
      "execution_count": 8,
      "outputs": [
        {
          "output_type": "stream",
          "name": "stdout",
          "text": [
            "('ciao', 24)\n"
          ]
        }
      ]
    },
    {
      "cell_type": "markdown",
      "source": [
        "generare 20 num random da 1 a 100, poi inserirli in una struttura dati adeguata che non sia modificabile"
      ],
      "metadata": {
        "id": "LmjuemsaTuIh"
      }
    },
    {
      "cell_type": "code",
      "source": [
        "import random \n",
        "lista0 = tuple(random.sample(range(1,100), 20))\n",
        "print(lista0)\n",
        "\n",
        "print(type(lista0))"
      ],
      "metadata": {
        "colab": {
          "base_uri": "https://localhost:8080/"
        },
        "id": "dg8UXCM_T3PJ",
        "outputId": "bc281b1c-67cc-46f7-a481-c2b42dc0f4e6"
      },
      "execution_count": 15,
      "outputs": [
        {
          "output_type": "stream",
          "name": "stdout",
          "text": [
            "(17, 93, 68, 11, 81, 3, 50, 66, 52, 91, 35, 90, 36, 89, 82, 20, 6, 60, 67, 8)\n",
            "<class 'tuple'>\n"
          ]
        }
      ]
    },
    {
      "cell_type": "markdown",
      "source": [
        "aggiungere i primi 3 cognomi della classe in pos 1 all precendente vettore"
      ],
      "metadata": {
        "id": "4MRRkR_GV8Dq"
      }
    },
    {
      "cell_type": "code",
      "source": [
        "tupla0 = list(lista0)\n",
        "tupla0[0:0] = [\"ava\", \"berna\", \"cottone\"]\n",
        "#print(tupla0)\n",
        "lista0 = tuple(tupla0)\n",
        "print(lista0)"
      ],
      "metadata": {
        "colab": {
          "base_uri": "https://localhost:8080/"
        },
        "id": "LoFgaxZwWC2y",
        "outputId": "7126b503-d66e-4715-e810-14b630d836cf"
      },
      "execution_count": 22,
      "outputs": [
        {
          "output_type": "stream",
          "name": "stdout",
          "text": [
            "('ava', 'berna', 'cottone', 17, 93, 68, 11, 81, 3, 50, 66, 52, 91, 35, 90, 36, 89, 82, 20, 6, 60, 67, 8)\n"
          ]
        }
      ]
    }
  ]
}