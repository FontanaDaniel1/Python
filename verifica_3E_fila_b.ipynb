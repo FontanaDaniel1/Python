{
  "nbformat": 4,
  "nbformat_minor": 0,
  "metadata": {
    "colab": {
      "provenance": [],
      "authorship_tag": "ABX9TyMRvcp0EpuHXESqW0oFFWos",
      "include_colab_link": true
    },
    "kernelspec": {
      "name": "python3",
      "display_name": "Python 3"
    },
    "language_info": {
      "name": "python"
    }
  },
  "cells": [
    {
      "cell_type": "markdown",
      "metadata": {
        "id": "view-in-github",
        "colab_type": "text"
      },
      "source": [
        "<a href=\"https://colab.research.google.com/github/FontanaDaniel1/Python/blob/main/verifica_3E_fila_b.ipynb\" target=\"_parent\"><img src=\"https://colab.research.google.com/assets/colab-badge.svg\" alt=\"Open In Colab\"/></a>"
      ]
    },
    {
      "cell_type": "markdown",
      "source": [
        "12 caricamento dati\n",
        "\n"
      ],
      "metadata": {
        "id": "1EOxpJJM5kBk"
      }
    },
    {
      "cell_type": "code",
      "execution_count": null,
      "metadata": {
        "id": "Ye32SeVY5dtI"
      },
      "outputs": [],
      "source": [
        "#h cancellata\n",
        "T = [11, 11, 10, 9, 11, 12, 12, 12, 13, 14, 15, 17, 19, 21, 24, 24, 24, 22, 20, 18, 16, 14, 12, 11]\n",
        "P = [90, 90, 90, 70, 70, 30, 0, 10, 10, 0, 0, 0, 0, 0, 0, 0, 0, 0, 0, 5, 10, 15, 20, 25]\n",
        "\n",
        "#0.5"
      ]
    },
    {
      "cell_type": "markdown",
      "source": [
        "visualizzare T e P alle 18"
      ],
      "metadata": {
        "id": "IBJ-vSvQ-KZN"
      }
    },
    {
      "cell_type": "code",
      "source": [
        "print(T[17])\n",
        "print(P[17])\n",
        "\n",
        "#0"
      ],
      "metadata": {
        "id": "ujLgsulq6--T",
        "colab": {
          "base_uri": "https://localhost:8080/"
        },
        "outputId": "f4cbdc59-3089-4949-e178-7efef3fa01d5"
      },
      "execution_count": null,
      "outputs": [
        {
          "output_type": "stream",
          "name": "stdout",
          "text": [
            "22\n",
            "0\n"
          ]
        }
      ]
    },
    {
      "cell_type": "markdown",
      "source": [
        "14 visualizzare T da 10 alle 18 compresi estremi"
      ],
      "metadata": {
        "id": "2AlEKeG98k_N"
      }
    },
    {
      "cell_type": "code",
      "source": [
        "print(T[9:18])\n",
        "print(P[9:18])\n",
        "\n",
        "#1"
      ],
      "metadata": {
        "id": "SIYNzlrx8FI_",
        "colab": {
          "base_uri": "https://localhost:8080/"
        },
        "outputId": "b5b9490c-c31f-420b-c75a-a696bf4269e3"
      },
      "execution_count": null,
      "outputs": [
        {
          "output_type": "stream",
          "name": "stdout",
          "text": [
            "[14, 15, 17, 19, 21, 24, 24, 24, 22]\n",
            "[0, 0, 0, 0, 0, 0, 0, 0, 0]\n"
          ]
        }
      ]
    },
    {
      "cell_type": "markdown",
      "source": [
        "15 visualizzare T e P dalle 12"
      ],
      "metadata": {
        "id": "SSBBvI848tZs"
      }
    },
    {
      "cell_type": "code",
      "source": [
        "print(T[11:])\n",
        "print(P[11:])\n",
        "\n",
        "#1"
      ],
      "metadata": {
        "id": "-4jtj2148klq",
        "colab": {
          "base_uri": "https://localhost:8080/"
        },
        "outputId": "769fd078-112c-435c-d46d-d0e32e177e1c"
      },
      "execution_count": null,
      "outputs": [
        {
          "output_type": "stream",
          "name": "stdout",
          "text": [
            "[17, 19, 21, 24, 24, 24, 22, 20, 18, 16, 14, 12, 11]\n",
            "[0, 0, 0, 0, 0, 0, 0, 0, 5, 10, 15, 20, 25]\n"
          ]
        }
      ]
    },
    {
      "cell_type": "markdown",
      "source": [
        "16 visualizzare T e P dall inizio fino alle 14"
      ],
      "metadata": {
        "id": "H_hVxBMP9Tq3"
      }
    },
    {
      "cell_type": "code",
      "source": [
        "print(T[:15])\n",
        "print(P[:15])\n",
        "\n",
        "#1"
      ],
      "metadata": {
        "id": "LlfBBp7V9Z_W",
        "colab": {
          "base_uri": "https://localhost:8080/"
        },
        "outputId": "7cf874f7-3bc9-43e5-9958-67dbc111be58"
      },
      "execution_count": null,
      "outputs": [
        {
          "output_type": "stream",
          "name": "stdout",
          "text": [
            "[11, 11, 10, 9, 11, 12, 12, 12, 13, 14, 15, 17, 19, 21, 24]\n",
            "[90, 90, 90, 70, 70, 30, 0, 10, 10, 0, 0, 0, 0, 0, 0]\n"
          ]
        }
      ]
    },
    {
      "cell_type": "markdown",
      "source": [
        "17 visualizzare T ogni 2 ore partendo da 4"
      ],
      "metadata": {
        "id": "EpVrPRsc-OC_"
      }
    },
    {
      "cell_type": "code",
      "source": [
        "print(T[4::2])\n",
        "\n",
        "#1"
      ],
      "metadata": {
        "id": "3VLovguX-T9H",
        "colab": {
          "base_uri": "https://localhost:8080/"
        },
        "outputId": "936ff151-d973-448b-e9b0-9eee52a8b64c"
      },
      "execution_count": null,
      "outputs": [
        {
          "output_type": "stream",
          "name": "stdout",
          "text": [
            "[11, 12, 13, 15, 19, 24, 24, 20, 16, 12]\n"
          ]
        }
      ]
    },
    {
      "cell_type": "markdown",
      "source": [
        "18 visualizzare il valore di T più alto "
      ],
      "metadata": {
        "id": "rHbcx9-i-Uy6"
      }
    },
    {
      "cell_type": "code",
      "source": [
        "max(T)\n",
        "print(max(T))\n",
        "\n",
        "#1"
      ],
      "metadata": {
        "id": "NSajXPhb-a-c",
        "colab": {
          "base_uri": "https://localhost:8080/"
        },
        "outputId": "4cac047d-2c48-464a-ba77-eb5b86eb0b8b"
      },
      "execution_count": null,
      "outputs": [
        {
          "output_type": "stream",
          "name": "stdout",
          "text": [
            "24\n"
          ]
        }
      ]
    },
    {
      "cell_type": "markdown",
      "source": [
        "19 visualizzare le probabilità di precipitazione media della giornata"
      ],
      "metadata": {
        "id": "jR2P1jw8_Mp5"
      }
    },
    {
      "cell_type": "code",
      "source": [
        "from statistics import mean \n",
        "mean(P)\n",
        "print(mean(P))\n",
        "\n",
        "#1"
      ],
      "metadata": {
        "id": "rLsjzkdK_cMh",
        "colab": {
          "base_uri": "https://localhost:8080/"
        },
        "outputId": "99ae6901-65bb-4854-df4a-34b640e6d2cf"
      },
      "execution_count": null,
      "outputs": [
        {
          "output_type": "stream",
          "name": "stdout",
          "text": [
            "22.291666666666668\n"
          ]
        }
      ]
    },
    {
      "cell_type": "markdown",
      "source": [
        "20 visualizzare le ore in cui è stat rilevata la T più alta"
      ],
      "metadata": {
        "id": "9oaSlkrp_To9"
      }
    },
    {
      "cell_type": "code",
      "source": [
        "Tmax= max(T)\n",
        "posTmax = T.index(Tmax)\n",
        "print(posTmax + 1, posTmax + 2, posTmax + 3)\n",
        "\n",
        "\"\"\"\n",
        " chiedere se al posto del secondo 24 ci fosse un 25, perchè prende solo quelle\n",
        "la Tmax, non calcolando\n",
        "\"\"\"\n",
        "#guardare list comprehension\n",
        "#posMax = T.index(max(T))\n",
        "#print(posTmax + 1)\n",
        "\n",
        "#print(T.index(max(T))+1) #trovare le altre T più alte\n",
        "\n"
      ],
      "metadata": {
        "id": "nG9gSGmj_pb8",
        "colab": {
          "base_uri": "https://localhost:8080/",
          "height": 54
        },
        "outputId": "c040a32c-a4dc-44d7-e101-308fefe80be9"
      },
      "execution_count": null,
      "outputs": [
        {
          "output_type": "stream",
          "name": "stdout",
          "text": [
            "15 16 17\n"
          ]
        },
        {
          "output_type": "execute_result",
          "data": {
            "text/plain": [
              "'\\n chiedere se al posto del secondo 24 ci fosse un 25, perchè prende solo quelle\\nla Tmax, non calcolando\\n'"
            ],
            "application/vnd.google.colaboratory.intrinsic+json": {
              "type": "string"
            }
          },
          "metadata": {},
          "execution_count": 5
        }
      ]
    },
    {
      "cell_type": "code",
      "source": [
        "T.sort(reverse=True)\n",
        "print (T)\n",
        "print(T.index(max(T)))"
      ],
      "metadata": {
        "id": "yVYBnljjAuiy",
        "colab": {
          "base_uri": "https://localhost:8080/"
        },
        "outputId": "8185614a-584f-4a43-eab3-d7138e6096d5"
      },
      "execution_count": null,
      "outputs": [
        {
          "output_type": "stream",
          "name": "stdout",
          "text": [
            "[24, 24, 24, 22, 21, 20, 19, 18, 17, 16, 15, 14, 14, 13, 12, 12, 12, 12, 11, 11, 11, 11, 10, 9]\n",
            "0\n"
          ]
        }
      ]
    },
    {
      "cell_type": "markdown",
      "source": [
        "21 modifica il dato relativo alla T dalle 16 : da 24 a 25"
      ],
      "metadata": {
        "id": "Vm50ALPmALbl"
      }
    },
    {
      "cell_type": "code",
      "source": [
        "#T.pop(15) \n",
        "#T.insert(15, 25)\n",
        "#print(T)\n",
        "\n",
        "T[15] = 25\n",
        "\n",
        "#0"
      ],
      "metadata": {
        "id": "TRfe9i84Ad1D"
      },
      "execution_count": null,
      "outputs": []
    },
    {
      "cell_type": "markdown",
      "source": [
        "22 visualizzare T e P a partire dalle 24 fino all 1"
      ],
      "metadata": {
        "id": "mhZpX3JuAX4w"
      }
    },
    {
      "cell_type": "code",
      "source": [
        "T.reverse()\n",
        "P.reverse()\n",
        "\n",
        "#0.75"
      ],
      "metadata": {
        "id": "OdxzL5KtAddM"
      },
      "execution_count": null,
      "outputs": []
    }
  ]
}