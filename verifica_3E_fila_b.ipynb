{
  "nbformat": 4,
  "nbformat_minor": 0,
  "metadata": {
    "colab": {
      "provenance": [],
      "authorship_tag": "ABX9TyO65T4N8WTodCiLak+WfDJi",
      "include_colab_link": true
    },
    "kernelspec": {
      "name": "python3",
      "display_name": "Python 3"
    },
    "language_info": {
      "name": "python"
    }
  },
  "cells": [
    {
      "cell_type": "markdown",
      "metadata": {
        "id": "view-in-github",
        "colab_type": "text"
      },
      "source": [
        "<a href=\"https://colab.research.google.com/github/FontanaDaniel1/Python/blob/main/verifica_3E_fila_b.ipynb\" target=\"_parent\"><img src=\"https://colab.research.google.com/assets/colab-badge.svg\" alt=\"Open In Colab\"/></a>"
      ]
    },
    {
      "cell_type": "markdown",
      "source": [
        "12 caricamento dati\n",
        "\n"
      ],
      "metadata": {
        "id": "1EOxpJJM5kBk"
      }
    },
    {
      "cell_type": "code",
      "execution_count": 25,
      "metadata": {
        "id": "Ye32SeVY5dtI"
      },
      "outputs": [],
      "source": [
        "h = [1, 2, 3, 4, 5, 6, 7, 8, 9, 10, 11, 12, 13, 14, 15, 16, 17, 18, 19, 20, 21, 22, 23, 24]\n",
        "T = [11, 11, 10, 9, 11, 12, 12, 12, 13, 14, 15, 17, 19, 21, 24, 24, 24, 22, 20, 18, 16, 14, 12, 11]\n",
        "P = [90, 90, 90, 70, 70, 30, 0, 10, 10, 0, 0, 0, 0, 0, 0, 0, 0, 0, 0, 5, 10, 15, 20, 25]"
      ]
    },
    {
      "cell_type": "markdown",
      "source": [
        "visualizzare T e P alle 18"
      ],
      "metadata": {
        "id": "IBJ-vSvQ-KZN"
      }
    },
    {
      "cell_type": "code",
      "source": [
        "print(T[19])\n",
        "print(P[19])"
      ],
      "metadata": {
        "id": "ujLgsulq6--T"
      },
      "execution_count": null,
      "outputs": []
    },
    {
      "cell_type": "markdown",
      "source": [
        "14 visualizzare T da 10 alle 18 compresi estremi"
      ],
      "metadata": {
        "id": "2AlEKeG98k_N"
      }
    },
    {
      "cell_type": "code",
      "source": [
        "print(T[9:18])\n",
        "print(P[9:18])"
      ],
      "metadata": {
        "id": "SIYNzlrx8FI_"
      },
      "execution_count": null,
      "outputs": []
    },
    {
      "cell_type": "markdown",
      "source": [
        "15 visualizzare T e P dalle 12"
      ],
      "metadata": {
        "id": "SSBBvI848tZs"
      }
    },
    {
      "cell_type": "code",
      "source": [
        "print(T[12:])\n",
        "print(P[12:])"
      ],
      "metadata": {
        "id": "-4jtj2148klq"
      },
      "execution_count": null,
      "outputs": []
    },
    {
      "cell_type": "markdown",
      "source": [
        "16 visualizzare T e P dall inizio fino alle 14"
      ],
      "metadata": {
        "id": "H_hVxBMP9Tq3"
      }
    },
    {
      "cell_type": "code",
      "source": [
        "print(T[0:15])\n",
        "print(P[0:15])"
      ],
      "metadata": {
        "id": "LlfBBp7V9Z_W"
      },
      "execution_count": null,
      "outputs": []
    },
    {
      "cell_type": "markdown",
      "source": [
        "17 visualizzare T ogni 2 ore partendo da 4"
      ],
      "metadata": {
        "id": "EpVrPRsc-OC_"
      }
    },
    {
      "cell_type": "code",
      "source": [
        "print(T[4::2])"
      ],
      "metadata": {
        "id": "3VLovguX-T9H"
      },
      "execution_count": null,
      "outputs": []
    },
    {
      "cell_type": "markdown",
      "source": [
        "18 visualizzare il valore di T più alto "
      ],
      "metadata": {
        "id": "rHbcx9-i-Uy6"
      }
    },
    {
      "cell_type": "code",
      "source": [
        "max(T)\n",
        "print(max(T))"
      ],
      "metadata": {
        "id": "NSajXPhb-a-c"
      },
      "execution_count": null,
      "outputs": []
    },
    {
      "cell_type": "markdown",
      "source": [
        "19 visualizzare le probabilità di precipitazione media della giornata"
      ],
      "metadata": {
        "id": "jR2P1jw8_Mp5"
      }
    },
    {
      "cell_type": "code",
      "source": [
        "from statistics import mean \n",
        "mean(P)\n",
        "print(mean(P))"
      ],
      "metadata": {
        "id": "rLsjzkdK_cMh"
      },
      "execution_count": null,
      "outputs": []
    },
    {
      "cell_type": "markdown",
      "source": [
        "20 visualizzare le ore in cui è stat rilevata la T più alta"
      ],
      "metadata": {
        "id": "9oaSlkrp_To9"
      }
    },
    {
      "cell_type": "code",
      "source": [
        "Tmax= max(T)\n",
        "posTmax = h.index(Tmax)\n",
        "print(posTmax)"
      ],
      "metadata": {
        "id": "nG9gSGmj_pb8"
      },
      "execution_count": null,
      "outputs": []
    },
    {
      "cell_type": "markdown",
      "source": [
        "21 modifica il dato relativo alla T dalle 16 : da 24 a 25"
      ],
      "metadata": {
        "id": "Vm50ALPmALbl"
      }
    },
    {
      "cell_type": "code",
      "source": [
        "T.pop(15) \n",
        "T.insert(25, 15)"
      ],
      "metadata": {
        "id": "TRfe9i84Ad1D"
      },
      "execution_count": 24,
      "outputs": []
    },
    {
      "cell_type": "markdown",
      "source": [
        "22 visualizzare T e P a partire dalle 24 fino all 1"
      ],
      "metadata": {
        "id": "mhZpX3JuAX4w"
      }
    },
    {
      "cell_type": "code",
      "source": [
        "T.reverse()\n",
        "P.reverse()"
      ],
      "metadata": {
        "id": "OdxzL5KtAddM"
      },
      "execution_count": null,
      "outputs": []
    }
  ]
}