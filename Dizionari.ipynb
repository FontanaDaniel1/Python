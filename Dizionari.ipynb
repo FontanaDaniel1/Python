{
  "nbformat": 4,
  "nbformat_minor": 0,
  "metadata": {
    "colab": {
      "provenance": [],
      "collapsed_sections": [
        "YXIGwkL_N-w2"
      ],
      "include_colab_link": true
    },
    "kernelspec": {
      "name": "python3",
      "display_name": "Python 3"
    },
    "language_info": {
      "name": "python"
    }
  },
  "cells": [
    {
      "cell_type": "markdown",
      "metadata": {
        "id": "view-in-github",
        "colab_type": "text"
      },
      "source": [
        "<a href=\"https://colab.research.google.com/github/FontanaDaniel1/Python/blob/main/Dizionari.ipynb\" target=\"_parent\"><img src=\"https://colab.research.google.com/assets/colab-badge.svg\" alt=\"Open In Colab\"/></a>"
      ]
    },
    {
      "cell_type": "markdown",
      "source": [
        "#Dizionari\n",
        "da https://www.w3schools.com/python/python_dictionaries.asp"
      ],
      "metadata": {
        "id": "YXIGwkL_N-w2"
      }
    },
    {
      "cell_type": "markdown",
      "source": [
        "I Dizionari sono collezioni ordinate, utilizzate per registrare serie di coppie di valori, formate da una chiave (Key) e un valore (Value)."
      ],
      "metadata": {
        "id": "r8THPYSqOSfg"
      }
    },
    {
      "cell_type": "code",
      "execution_count": null,
      "metadata": {
        "colab": {
          "base_uri": "https://localhost:8080/"
        },
        "id": "nDDWFMCGIJO0",
        "outputId": "2fb1699b-b157-4329-a721-f53a453b87bc"
      },
      "outputs": [
        {
          "output_type": "stream",
          "name": "stdout",
          "text": [
            "{'genere': 'maschio', 'età': '15', 'altezza': 200}\n"
          ]
        }
      ],
      "source": [
        "#Esempio\n",
        "carlo = {\n",
        "    \"genere\":\"maschio\",\n",
        "    \"età\":\"15\",\n",
        "    \"altezza\":200\n",
        "}\n",
        "print(carlo)"
      ]
    },
    {
      "cell_type": "markdown",
      "source": [
        "Gli elementi all'interno dei dizionari sono ordinati, modificabili e non consentono duplicati."
      ],
      "metadata": {
        "id": "bW9ZbTJgP14h"
      }
    },
    {
      "cell_type": "code",
      "source": [
        "#Esempio\n",
        "carlo = {\n",
        "    \"genere\":\"femmina\",\n",
        "    \"genere\":\"maschio\",\n",
        "    \"età\":\"15\",\n",
        "    \"altezza\":200\n",
        "}\n",
        "\n",
        "#La chiave \"genere\" ripetendosi 2 volte, verrà presa in considerazione solo l'ultima.\n",
        "\n",
        "print(carlo)"
      ],
      "metadata": {
        "colab": {
          "base_uri": "https://localhost:8080/"
        },
        "id": "N6yqzoZcQAVL",
        "outputId": "fa7a0bde-32c4-421f-84ea-617afb140caf"
      },
      "execution_count": null,
      "outputs": [
        {
          "output_type": "stream",
          "name": "stdout",
          "text": [
            "{'genere': 'maschio', 'età': '15', 'altezza': 200}\n"
          ]
        }
      ]
    },
    {
      "cell_type": "code",
      "source": [
        "#Esempio\n",
        "carlo = {\n",
        "    \"genere\":\"maschio\",\n",
        "    \"età\":\"15\",\n",
        "    \"altezza\":200\n",
        "}\n",
        "\n",
        "#Trattandosi di una collezione modificabile, possono essere aggiunti nuovi elementi\n",
        "carlo.update({\"cognome\":\"Borgheresi\"})\n",
        "\n",
        "#Possono essere modificati\n",
        "carlo[\"genere\"] = \"femmina\"\n",
        "\n",
        "#Possono essere rimossi\n",
        "carlo.pop(\"età\") \n",
        "\n",
        "print(carlo)"
      ],
      "metadata": {
        "colab": {
          "base_uri": "https://localhost:8080/"
        },
        "id": "-1w-WihFSl3a",
        "outputId": "e868ea72-b3f3-4909-af22-3a5808fc0d1a"
      },
      "execution_count": null,
      "outputs": [
        {
          "output_type": "stream",
          "name": "stdout",
          "text": [
            "{'genere': 'femmina', 'altezza': 200, 'cognome': 'Borgheresi'}\n"
          ]
        }
      ]
    },
    {
      "cell_type": "markdown",
      "source": [
        "#Metodi\n",
        "da https://www.w3schools.com/python/python_dictionaries_methods.asp"
      ],
      "metadata": {
        "id": "ipLNR0X5Xfv6"
      }
    },
    {
      "cell_type": "code",
      "source": [],
      "metadata": {
        "id": "m28vqGVyXkkh"
      },
      "execution_count": null,
      "outputs": []
    }
  ]
}