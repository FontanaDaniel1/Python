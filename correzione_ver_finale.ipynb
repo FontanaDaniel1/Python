{
  "nbformat": 4,
  "nbformat_minor": 0,
  "metadata": {
    "colab": {
      "provenance": [],
      "authorship_tag": "ABX9TyOGN6s6CesVOuU4+ZMu0LvF",
      "include_colab_link": true
    },
    "kernelspec": {
      "name": "python3",
      "display_name": "Python 3"
    },
    "language_info": {
      "name": "python"
    }
  },
  "cells": [
    {
      "cell_type": "markdown",
      "metadata": {
        "id": "view-in-github",
        "colab_type": "text"
      },
      "source": [
        "<a href=\"https://colab.research.google.com/github/FontanaDaniel1/Python/blob/main/correzione_ver_finale.ipynb\" target=\"_parent\"><img src=\"https://colab.research.google.com/assets/colab-badge.svg\" alt=\"Open In Colab\"/></a>"
      ]
    },
    {
      "cell_type": "markdown",
      "source": [
        "# es 1"
      ],
      "metadata": {
        "id": "HkmVKeMPGuGF"
      }
    },
    {
      "cell_type": "markdown",
      "source": [
        "gli ultimi due versamenti di ogni amico: visualizzare in nome e i versamenti"
      ],
      "metadata": {
        "id": "YZFnXIchA4Mt"
      }
    },
    {
      "cell_type": "code",
      "execution_count": null,
      "metadata": {
        "id": "2_wVsOB1Ae6k"
      },
      "outputs": [],
      "source": [
        "cassaComune = {'gianni': [50, 50, 25, 30],\n",
        "               'aldo': [10, 20, 40, 100, 5],\n",
        "               'andrea': [150, 200],\n",
        "               'miki': [5, 5, 10, 15, 5, 5, 10, 5, 20]}\n",
        "\n",
        "for amico,versamenti in cassaComune.items():\n",
        "  print(amico, versamenti[-2:])"
      ]
    },
    {
      "cell_type": "code",
      "source": [
        "cassaComune = [ \n",
        "    {\"nome\":\"aldo\",\n",
        "     \"versamenti\": [10, 30, 40, 100, 5 ]\n",
        "    },\n",
        "    {\"nome\":\"giovanni\",\n",
        "      \"versamenti\": [50, 50, 25, 30]\n",
        "    },\n",
        "    {\"nome\":\"andrea\",\n",
        "     \"versamenti\": [200, 150]\n",
        "    },\n",
        "    {\"nome\":\"miki\",\n",
        "     \"versamenti\": [5,5,15,5,5,10,5,20]\n",
        "    }]"
      ],
      "metadata": {
        "id": "X9WfET5HHU_c"
      },
      "execution_count": null,
      "outputs": []
    },
    {
      "cell_type": "markdown",
      "source": [
        "il totale versato da ogni amico: visualizzare in nome e il totale"
      ],
      "metadata": {
        "id": "Yiyl2sZXBkYX"
      }
    },
    {
      "cell_type": "code",
      "source": [
        "for amico,versamenti in cassaComune.items():\n",
        "  print(amico, sum(versamenti))"
      ],
      "metadata": {
        "id": "sgyPWeToBoVw"
      },
      "execution_count": null,
      "outputs": []
    },
    {
      "cell_type": "code",
      "source": [
        "for dizionario in cassaComune: \n",
        "  print(dizionario['nome'], dizionario['versamenti'][-2:])"
      ],
      "metadata": {
        "id": "uT91RnLuIIKW"
      },
      "execution_count": null,
      "outputs": []
    },
    {
      "cell_type": "markdown",
      "source": [
        "l’amico che ha versato di più"
      ],
      "metadata": {
        "id": "VGPLzZx1Botc"
      }
    },
    {
      "cell_type": "code",
      "source": [
        "lista = []\n",
        "\n",
        "for amico,versamenti in cassaComune.items(): \n",
        "  lista.append(sum(versamenti))\n",
        "massimo = max(lista)\n",
        "\n",
        "for amico,versamenti in cassaComune.items():\n",
        "  if sum(versamenti) == massimo:\n",
        "    print(amico)"
      ],
      "metadata": {
        "id": "SvwvAJj7Bquk"
      },
      "execution_count": null,
      "outputs": []
    },
    {
      "cell_type": "code",
      "source": [
        "lista1 = [sum(dizionario['versamenti'])for dizionario in cassaComune]\n",
        "massimo = max(lista1)\n",
        "for dizionario in cassaComune: \n",
        "  if sum(dizionario['versamenti']) == massimo:\n",
        "      print(dizionario['nome'])"
      ],
      "metadata": {
        "id": "Og0ujppHIoAV"
      },
      "execution_count": null,
      "outputs": []
    },
    {
      "cell_type": "markdown",
      "source": [
        "dato il nome di un amico, inserito dall’utente, visualizzare i suoi versamenti a partire dal minore fino al maggiore. Controllare che il nome dell’amico sia presente, altrimenti dare un messaggio di errore opportuno"
      ],
      "metadata": {
        "id": "pnToitVdBq7U"
      }
    },
    {
      "cell_type": "code",
      "source": [
        "nc = input('nome: ')\n",
        "if nc in cassaComune:\n",
        "  print(nc, ':', sorted(cassaComune[nc]))\n",
        "else:\n",
        "    print('non presente')"
      ],
      "metadata": {
        "id": "YL-CNw_6Bs98"
      },
      "execution_count": null,
      "outputs": []
    },
    {
      "cell_type": "code",
      "source": [
        "x = False\n",
        "nc = input('nome: ')\n",
        "for amici in cassaComune:\n",
        "  if nc == amici['nome']:\n",
        "    print(sorted(amici['versamenti']))\n",
        "    x  = True\n",
        "if x == False:\n",
        "  print('nome non trovato')"
      ],
      "metadata": {
        "id": "INx4J_y2OID-"
      },
      "execution_count": null,
      "outputs": []
    },
    {
      "cell_type": "code",
      "source": [
        "x = False\n",
        "i = 0\n",
        "nc = input('nome: ')\n",
        "while x == False and i < len(cassaComune):\n",
        "  if nc == cassaComune[i]['nome']:\n",
        "    print(sorted(cassaComune[i]['versamenti']))\n",
        "    x  = True\n",
        "  i += 1\n",
        "if x == False:\n",
        "  print('nome non trovato')"
      ],
      "metadata": {
        "id": "VmAd6_3lQgAO"
      },
      "execution_count": null,
      "outputs": []
    },
    {
      "cell_type": "markdown",
      "source": [
        "Andrea ha ottenuto un rimborso premio delle sue spese: eliminarlo dalla struttura dati"
      ],
      "metadata": {
        "id": "MpduHpx-G2Rx"
      }
    },
    {
      "cell_type": "code",
      "source": [
        "cassaComune.pop('andrea')\n",
        "cassaComune"
      ],
      "metadata": {
        "id": "OqUGLTGcG2j9"
      },
      "execution_count": null,
      "outputs": []
    },
    {
      "cell_type": "code",
      "source": [
        "for index in range(len(cassaComune)):\n",
        "  if cassaComune[index]['nome'] == 'andrea':\n",
        "    del cassaComune[index]"
      ],
      "metadata": {
        "id": "Ri41xVnwR2cm"
      },
      "execution_count": null,
      "outputs": []
    },
    {
      "cell_type": "code",
      "source": [
        "cassaComune"
      ],
      "metadata": {
        "id": "U50fM3jbSMX1"
      },
      "execution_count": null,
      "outputs": []
    },
    {
      "cell_type": "markdown",
      "source": [
        "# es 2"
      ],
      "metadata": {
        "id": "T9hohIKpHRQ-"
      }
    },
    {
      "cell_type": "markdown",
      "source": [
        "Utilizzare la list comprehension per caricare una lista con 100 numeri casuali compresi tra 1 e 20 (estremi inclusi)"
      ],
      "metadata": {
        "id": "qzRDck6xS3P2"
      }
    },
    {
      "cell_type": "code",
      "source": [
        "import random\n",
        "\n",
        "elenco = []\n",
        "for i in range(100):\n",
        "    n = random.randint(1, 20)\n",
        "    elenco.append(n)\n",
        "\n",
        "print(elenco)"
      ],
      "metadata": {
        "id": "tQqMUprKHTbk"
      },
      "execution_count": null,
      "outputs": []
    },
    {
      "cell_type": "markdown",
      "source": [
        "Scrivere il codice per caricare in una opportuna struttura dati (una sola struttura dati) il numero di volte che ogni numero si ripete. Ad esempio se la lista contenesse [4, 5, 4, 2, 4, 5] bisognerebbe memorizzare nella struttura dati il fatto che il 4 si ripete tre volte, il 5 due volte, il 2 una volta sola. Chiamare la struttura dati “ripetizioni”\n"
      ],
      "metadata": {
        "id": "Hy2Aca6ES37X"
      }
    },
    {
      "cell_type": "code",
      "source": [
        "ripetizioni = {i:elenco.count(i) for i in elenco}\n",
        "print(ripetizioni)"
      ],
      "metadata": {
        "id": "EhnZbR3XS5Zh"
      },
      "execution_count": null,
      "outputs": []
    },
    {
      "cell_type": "code",
      "source": [
        "ripetizioni = {i:elenco.count(i) for i in set(elenco)}\n",
        "print(ripetizioni)"
      ],
      "metadata": {
        "colab": {
          "base_uri": "https://localhost:8080/"
        },
        "id": "Ua5DrrBhU08-",
        "outputId": "920b287c-4358-49ef-af20-75e5b4a22350"
      },
      "execution_count": null,
      "outputs": [
        {
          "output_type": "stream",
          "name": "stdout",
          "text": [
            "{1: 4, 2: 7, 3: 8, 4: 3, 5: 5, 6: 7, 7: 6, 8: 11, 9: 7, 10: 5, 11: 5, 12: 7, 13: 6, 14: 4, 16: 4, 17: 1, 18: 1, 19: 3, 20: 6}\n"
          ]
        }
      ]
    },
    {
      "cell_type": "markdown",
      "source": [
        "Visualizzare l’elenco dei numeri della struttura dati nella forma <numero> - <numeroRipetizioni> ordinandolo sul numero.\n"
      ],
      "metadata": {
        "id": "SnBlWHmQS5zF"
      }
    },
    {
      "cell_type": "code",
      "source": [
        "for key, value in ripetizioni.items():\n",
        "  print(key, 'ripetuto', value)"
      ],
      "metadata": {
        "id": "sCof9a4LS8m-"
      },
      "execution_count": null,
      "outputs": []
    },
    {
      "cell_type": "markdown",
      "source": [
        "Visualizzare l’elenco precedente ordinandolo in ordine decrescente sul numero di ripetizioni\n",
        "\n"
      ],
      "metadata": {
        "id": "ThfylQH8S84W"
      }
    },
    {
      "cell_type": "code",
      "source": [
        "import operator \n",
        "dati = dict(sorted(ripetizioni.items(), key = operator.itemgetter(1), reverse = True))\n",
        "for key, value in dati.items():\n",
        "  print(key, '-', value)"
      ],
      "metadata": {
        "id": "vWTJ6AUDS_DH"
      },
      "execution_count": null,
      "outputs": []
    },
    {
      "cell_type": "markdown",
      "source": [
        "# ese3"
      ],
      "metadata": {
        "id": "0xFwCjgzTAEf"
      }
    },
    {
      "cell_type": "markdown",
      "source": [
        "caricare il dataset nel proprio Drive nella cartella Colab Notebooks. Caricare poi i dati in un dataframe di Pandas\n"
      ],
      "metadata": {
        "id": "j8C90XM-TNQe"
      }
    },
    {
      "cell_type": "code",
      "source": [],
      "metadata": {
        "id": "Hf_zW98gTCPO"
      },
      "execution_count": null,
      "outputs": []
    },
    {
      "cell_type": "markdown",
      "source": [
        "visualizzare in due modi gli ultimi 10 record\n"
      ],
      "metadata": {
        "id": "aRIcZIAOTN7m"
      }
    },
    {
      "cell_type": "code",
      "source": [],
      "metadata": {
        "id": "6ciNFsJsTUuO"
      },
      "execution_count": null,
      "outputs": []
    },
    {
      "cell_type": "markdown",
      "source": [
        "visualizzare la seconda e la terza colonna delle righe dalla 200 alla 210 (comprese)\n"
      ],
      "metadata": {
        "id": "EphpVgfyTVGu"
      }
    },
    {
      "cell_type": "code",
      "source": [],
      "metadata": {
        "id": "cOsrCpkyTWfn"
      },
      "execution_count": null,
      "outputs": []
    },
    {
      "cell_type": "markdown",
      "source": [
        "visualizzare i 10 record centrali. Fare in modo che il codice possa funzionare anche se dovesse cambiare la lunghezza del dataframe"
      ],
      "metadata": {
        "id": "_n4RMn1MTjsO"
      }
    },
    {
      "cell_type": "code",
      "source": [],
      "metadata": {
        "id": "szsXZ0ggTlDn"
      },
      "execution_count": null,
      "outputs": []
    },
    {
      "cell_type": "markdown",
      "source": [
        "visualizzare il numero di linguaggi di programmazione di cui non si conosce il predecessore\n"
      ],
      "metadata": {
        "id": "VM8855oDTlZd"
      }
    },
    {
      "cell_type": "code",
      "source": [],
      "metadata": {
        "id": "xiXTGAeKTm4_"
      },
      "execution_count": null,
      "outputs": []
    },
    {
      "cell_type": "markdown",
      "source": [
        "visualizzare i linguaggi di programmazione che hanno la parola Pascal nel nome\n"
      ],
      "metadata": {
        "id": "OG-VpyH5TnJG"
      }
    },
    {
      "cell_type": "code",
      "source": [],
      "metadata": {
        "id": "RlHNKezYTojn"
      },
      "execution_count": null,
      "outputs": []
    },
    {
      "cell_type": "markdown",
      "source": [
        "visualizzare i linguaggi di programmazione che hanno la parola C++ nel nome"
      ],
      "metadata": {
        "id": "XhZBDxRFTo4m"
      }
    },
    {
      "cell_type": "code",
      "source": [],
      "metadata": {
        "id": "5QoLAcxbTqOf"
      },
      "execution_count": null,
      "outputs": []
    },
    {
      "cell_type": "markdown",
      "source": [
        "visualizzare gli anni in cui sono stati inventati più di 5 linguaggi di programmazione\n"
      ],
      "metadata": {
        "id": "g1sDQ5QETqhe"
      }
    },
    {
      "cell_type": "code",
      "source": [],
      "metadata": {
        "id": "cI5HKrfqTrs2"
      },
      "execution_count": null,
      "outputs": []
    },
    {
      "cell_type": "markdown",
      "source": [
        "rappresentare i dati dell’esercizio precedente con un grafico a barre orizzontali, specificando bene titolo, assi e legenda. Dare colori diversi alle barre."
      ],
      "metadata": {
        "id": "T6K4zECrTtGO"
      }
    },
    {
      "cell_type": "code",
      "source": [],
      "metadata": {
        "id": "KXi3UCr9TtaG"
      },
      "execution_count": null,
      "outputs": []
    }
  ]
}