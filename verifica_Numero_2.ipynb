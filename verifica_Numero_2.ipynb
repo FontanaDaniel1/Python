{
  "nbformat": 4,
  "nbformat_minor": 0,
  "metadata": {
    "colab": {
      "provenance": [],
      "include_colab_link": true
    },
    "kernelspec": {
      "name": "python3",
      "display_name": "Python 3"
    },
    "language_info": {
      "name": "python"
    }
  },
  "cells": [
    {
      "cell_type": "markdown",
      "metadata": {
        "id": "view-in-github",
        "colab_type": "text"
      },
      "source": [
        "<a href=\"https://colab.research.google.com/github/FontanaDaniel1/Python/blob/main/verifica_Numero_2.ipynb\" target=\"_parent\"><img src=\"https://colab.research.google.com/assets/colab-badge.svg\" alt=\"Open In Colab\"/></a>"
      ]
    },
    {
      "cell_type": "code",
      "execution_count": null,
      "metadata": {
        "id": "4TkmqFp_Z1w9"
      },
      "outputs": [],
      "source": [
        "cognomi = [\"Avasiloae\",\"Bernasconi\",\"cottone\",\"D'arienzo\",\"Finessi\",\"Fontana\",\"Geremicca\",\"Lotorto\",\"Papes\",\"dipace\",\"rafy\",\"Leone\",\"Neri\",\"Poliseno\"]"
      ]
    },
    {
      "cell_type": "code",
      "source": [
        "#1\n",
        "\n",
        "print(cognomi[9])"
      ],
      "metadata": {
        "colab": {
          "base_uri": "https://localhost:8080/"
        },
        "id": "ZqVP1fCEam8S",
        "outputId": "0dc27465-d68a-4779-ecfb-6f0dd3ce7ba2"
      },
      "execution_count": null,
      "outputs": [
        {
          "output_type": "stream",
          "name": "stdout",
          "text": [
            "dipace\n"
          ]
        }
      ]
    },
    {
      "cell_type": "code",
      "source": [
        "#2\n",
        "\n",
        "print(cognomi[0:10])"
      ],
      "metadata": {
        "id": "sng1-uVKavOp",
        "colab": {
          "base_uri": "https://localhost:8080/"
        },
        "outputId": "4459e644-49d7-4aa5-d43b-253e7ab00259"
      },
      "execution_count": null,
      "outputs": [
        {
          "output_type": "stream",
          "name": "stdout",
          "text": [
            "['Avasiloae', 'Bernasconi', 'cottone', \"D'arienzo\", 'Finessi', 'Fontana', 'Geremicca', 'Lotorto', 'Papes', 'dipace']\n"
          ]
        }
      ]
    },
    {
      "cell_type": "code",
      "source": [
        "#3\n",
        "\n",
        "print(len(cognomi))\n",
        "print(cognomi[0:5:(len(cognomi))"
      ],
      "metadata": {
        "id": "-taT4Z4sa4x5"
      },
      "execution_count": null,
      "outputs": []
    },
    {
      "cell_type": "code",
      "source": [
        "#4\n",
        "import random\n",
        "listaStudentiRandom = [random.randint(0,14) for x in range(14)]\n",
        "for studenti in range (0,1):\n",
        "  print(cognomi[listaStudentiRandom[studenti]])\n"
      ],
      "metadata": {
        "colab": {
          "base_uri": "https://localhost:8080/"
        },
        "id": "xfxPoSmebioq",
        "outputId": "e8bbb23f-670e-4544-b586-66b881bf689f"
      },
      "execution_count": null,
      "outputs": [
        {
          "output_type": "stream",
          "name": "stdout",
          "text": [
            "D'arienzo\n"
          ]
        }
      ]
    },
    {
      "cell_type": "code",
      "source": [
        "import random\n",
        "listaStudentiRandom = [random.randint(0,14) for x in range(14)]\n",
        "for studenti in range (0,3):\n",
        "  print(cognomi[listaStudentiRandom[studenti]])\n",
        "  if studenti == listaStudentiRandom:\n",
        "    \n",
        "    print(\"Il cognome è gia uscito\") "
      ],
      "metadata": {
        "id": "u0lfEB7vjgFb"
      },
      "execution_count": null,
      "outputs": []
    },
    {
      "cell_type": "code",
      "source": [
        "print(random.sample(cognomi,3))"
      ],
      "metadata": {
        "colab": {
          "base_uri": "https://localhost:8080/"
        },
        "id": "U7t9ChYZN_i1",
        "outputId": "16667514-ad2c-4cc0-8f21-386915d77010"
      },
      "execution_count": null,
      "outputs": [
        {
          "output_type": "stream",
          "name": "stdout",
          "text": [
            "['Neri', 'cottone', 'Avasiloae']\n"
          ]
        }
      ]
    },
    {
      "cell_type": "code",
      "source": [
        "cognomi.extend([\"Antonio Grieco\"])\n",
        "cognomi.sort()\n",
        "print(cognomi)"
      ],
      "metadata": {
        "id": "UWCE4WLskS8C",
        "colab": {
          "base_uri": "https://localhost:8080/"
        },
        "outputId": "7ac2763b-91f0-4f62-dc21-a274f392136f"
      },
      "execution_count": null,
      "outputs": [
        {
          "output_type": "stream",
          "name": "stdout",
          "text": [
            "['Antonio Grieco', 'Avasiloae', 'Bernasconi', \"D'arienzo\", 'Finessi', 'Fontana', 'Geremicca', 'Leone', 'Lotorto', 'Neri', 'Papes', 'Poliseno', 'cottone', 'dipace', 'rafy']\n"
          ]
        }
      ]
    },
    {
      "cell_type": "markdown",
      "source": [
        "esrcizio 2"
      ],
      "metadata": {
        "id": "B13mCOOHcxia"
      }
    },
    {
      "cell_type": "code",
      "source": [
        "listaCasuale = [random.randint(0,30) for x in range(100)]\n",
        "print(listaCasuale)"
      ],
      "metadata": {
        "id": "rr785fJlcxDb"
      },
      "execution_count": null,
      "outputs": []
    },
    {
      "cell_type": "code",
      "source": [
        "listaDispari = []\n",
        "for dispari in listaCasuale:\n",
        "  if dispari % 2 == 1:\n",
        "    listaDispari.append(dispari)\n",
        "print(listaDispari)"
      ],
      "metadata": {
        "id": "HfYfQ475dEVL"
      },
      "execution_count": null,
      "outputs": []
    },
    {
      "cell_type": "code",
      "source": [
        "\n",
        "for multipli in listaDispari:\n",
        "  if multipli % 3 == 0:\n",
        "    listaDispari.pop(multipli)\n",
        "print(listaDispari)\n",
        "    "
      ],
      "metadata": {
        "id": "PAMGwnUteL1a"
      },
      "execution_count": null,
      "outputs": []
    },
    {
      "cell_type": "code",
      "source": [
        "NumeriMaggioriMinori = []\n",
        "for num in  listaDispari:\n",
        "  if num > 10 and num < 20:\n",
        "    NumeriMaggioriMinori.append(num)\n",
        "print(NumeriMaggioriMinori)\n",
        "    "
      ],
      "metadata": {
        "colab": {
          "base_uri": "https://localhost:8080/"
        },
        "id": "NS7opXone43j",
        "outputId": "be89663f-fa48-4b64-9529-c90f0e9d6252"
      },
      "execution_count": null,
      "outputs": [
        {
          "output_type": "stream",
          "name": "stdout",
          "text": [
            "[13, 15, 11, 19, 11, 11, 13, 11, 17, 17, 11, 15, 19, 13, 11]\n"
          ]
        }
      ]
    },
    {
      "cell_type": "code",
      "source": [
        "listaMoltiplicati = []\n",
        "for moltiplicare in range(len(listaMoltiplicati)):\n",
        "  moltiplicare = moltiplicare * 10\n",
        "  listaMoltiplicati.append(moltiplicare)\n",
        "  print(listaMoltiplicati)\n",
        " "
      ],
      "metadata": {
        "id": "7AE3qkYefdoK"
      },
      "execution_count": null,
      "outputs": []
    },
    {
      "cell_type": "code",
      "source": [
        "listaCasuale.extend(listaMoltiplicati)\n",
        "print(listaCasuale)"
      ],
      "metadata": {
        "colab": {
          "base_uri": "https://localhost:8080/"
        },
        "id": "59FkynZ_hDiL",
        "outputId": "481c0b39-6b91-498a-acb2-64d44563c9f1"
      },
      "execution_count": null,
      "outputs": [
        {
          "output_type": "stream",
          "name": "stdout",
          "text": [
            "[18, 2, 1, 3, 1, 1, 17, 18, 12, 15, 23, 30, 14, 25, 14, 7, 13, 27, 25, 23, 10, 25, 15, 5, 10, 18, 9, 12, 5, 9, 3, 26, 11, 11, 7, 19, 1, 9, 23, 11, 21, 13, 28, 20, 10, 14, 25, 19, 11, 6, 24, 8, 7, 13, 17, 18, 9, 21, 1, 10, 11, 12, 2, 1, 20, 28, 17, 20, 1, 5, 30, 17, 4, 11, 27, 30, 29, 15, 19, 13, 23, 6, 12, 3, 13, 2, 27, 28, 6, 4, 23, 28, 22, 11, 21, 4, 22, 7, 27, 1]\n"
          ]
        }
      ]
    },
    {
      "cell_type": "code",
      "source": [],
      "metadata": {
        "id": "JTVv8OLZggBq"
      },
      "execution_count": null,
      "outputs": []
    }
  ]
}