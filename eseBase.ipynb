{
  "nbformat": 4,
  "nbformat_minor": 0,
  "metadata": {
    "colab": {
      "provenance": [],
      "authorship_tag": "ABX9TyM7CiXfCff0kbH1JZ9Kj6We",
      "include_colab_link": true
    },
    "kernelspec": {
      "name": "python3",
      "display_name": "Python 3"
    },
    "language_info": {
      "name": "python"
    }
  },
  "cells": [
    {
      "cell_type": "markdown",
      "metadata": {
        "id": "view-in-github",
        "colab_type": "text"
      },
      "source": [
        "<a href=\"https://colab.research.google.com/github/FontanaDaniel1/Python/blob/main/eseBase.ipynb\" target=\"_parent\"><img src=\"https://colab.research.google.com/assets/colab-badge.svg\" alt=\"Open In Colab\"/></a>"
      ]
    },
    {
      "cell_type": "code",
      "execution_count": null,
      "metadata": {
        "id": "R_dqXtWeBnu-"
      },
      "outputs": [],
      "source": [
        "print(\"Hello world\")\n"
      ]
    },
    {
      "cell_type": "code",
      "source": [
        "a = 10 \n",
        "b = 20\n",
        "c = 10.5\n",
        "\n",
        "print(a,b,c)"
      ],
      "metadata": {
        "id": "mBCfh9QdFS66",
        "colab": {
          "base_uri": "https://localhost:8080/"
        },
        "outputId": "6db6db0e-db45-4134-92be-9c2898263626"
      },
      "execution_count": null,
      "outputs": [
        {
          "output_type": "stream",
          "name": "stdout",
          "text": [
            "10 20 10.5\n"
          ]
        }
      ]
    },
    {
      "cell_type": "code",
      "source": [
        "somma = a + b \n",
        "sottrazione = a - b\n",
        "moltiplicazione = a * b\n",
        "divisione = a / b\n",
        "\n",
        "print (somma,sottrazione, moltiplicazione, divisione)"
      ],
      "metadata": {
        "id": "r492DfyaFrGi"
      },
      "execution_count": null,
      "outputs": []
    },
    {
      "cell_type": "code",
      "source": [
        "# inserimento dati\n",
        "\n",
        "peso = input (\"Inserisci il tuo peso \")\n",
        "altezza = input (\"Inserisci la tua altezza \")\n",
        "imc = int(peso) / (float(altezza) * float(altezza))\n",
        "\n",
        "print (\"Il tuo indice di massa corporea è \", imc)\n",
        "\n",
        "if imc <= 16:\n",
        "  print  (\"Grave magrezza\")\n",
        "elif imc < 18:\n",
        " print (\"Sovrappeso\")\n",
        "elif imc < 25:\n",
        " print (\"Normopeso\")\n",
        "elif imc < 30:\n",
        " print (\"Sovrappeso\")\n",
        "elif imc >= 31:\n",
        "  print (\"Grave sovrappeso\")\n",
        "\n"
      ],
      "metadata": {
        "id": "QVe8ZMmoGZei",
        "colab": {
          "base_uri": "https://localhost:8080/"
        },
        "outputId": "c02a0207-5b09-474f-c45e-1d0b2d09a92a"
      },
      "execution_count": null,
      "outputs": [
        {
          "output_type": "stream",
          "name": "stdout",
          "text": [
            "Inserisci il tuo peso 3\n",
            "Inserisci la tua altezza 3\n",
            "Il tuo indice di massa corporea è  0.3333333333333333\n",
            "Grave magrezza\n"
          ]
        }
      ]
    },
    {
      "cell_type": "code",
      "source": [
        "#scrivere un programma che calcoli le tasse da pagare\n",
        "#se il reddito inferiore a 30 k si paga 15%\n",
        "#se compreso tra 30/60 k si paga 20%\n",
        "#se superiore a 60 k si paga 30%\n",
        "\n",
        "reddito = (input(\"Inserisci il tuo reddito: \"))\n",
        "if reddito <= \"30000\": \n",
        " tasse = int(reddito) / 100 * 15\n",
        "elif reddito <= \"60000\": \n",
        " tasse = int(reddito) / 100 * 20\n",
        "elif reddito >= \"60000\": \n",
        "  tasse = int(reddito) / 100 * 30\n",
        "\n",
        "print (\"Tasse da pagare: \", tasse)\n",
        "\n"
      ],
      "metadata": {
        "id": "msVlNVjoO-eb"
      },
      "execution_count": null,
      "outputs": []
    },
    {
      "cell_type": "code",
      "source": [
        "#un negozio vuole incetivare gli acquisti applicando sconti maggiori a chi spende di +. \n",
        "#se spende fino a 100 sconto del 15 %\n",
        "#se spende da 100 a 200 sconto del 20%\n",
        "# se spende da 200 a 300 sconto del 40%\n",
        "#oltre 400 sconto del 60%\n",
        "#scrivere un programma che dato il totale calcoli il prezzo finale che il cliente deve pagare\n",
        "\n",
        "spesa = (input(\"totale spesa: \"))\n",
        "\n",
        "if spesa == \"100\":\n",
        " sconto = float(spesa) / 100 * 15\n",
        "elif spesa <= \"200\":\n",
        " sconto = float(spesa) / 100 * 20\n",
        "elif spesa <= \"300\":\n",
        " sconto = float(spesa) / 100 * 40\n",
        "elif spesa > \"400\":\n",
        " sconto = float(spesa) / 100 * 60\n",
        "spesa = float(spesa) - float(sconto)\n",
        "\n",
        "print (\"prezzo finale è\", spesa)\n"
      ],
      "metadata": {
        "id": "LaJAmD18QfuT"
      },
      "execution_count": null,
      "outputs": []
    },
    {
      "cell_type": "code",
      "source": [
        "#Liste\n",
        "a = []\n"
      ],
      "metadata": {
        "id": "gMtNrHMr49vB"
      },
      "execution_count": null,
      "outputs": []
    },
    {
      "cell_type": "code",
      "source": [
        "b = [1,2,3,4,5,6,7,8,9,10]\n",
        "print(b)"
      ],
      "metadata": {
        "id": "5Eq-73gI5FKn",
        "colab": {
          "base_uri": "https://localhost:8080/"
        },
        "outputId": "159c40bc-dcfd-435d-ddf5-24847bc26f72"
      },
      "execution_count": null,
      "outputs": [
        {
          "output_type": "stream",
          "name": "stdout",
          "text": [
            "[1, 2, 3, 4, 5, 6, 7, 8, 9, 10]\n"
          ]
        }
      ]
    },
    {
      "cell_type": "code",
      "source": [
        "#indica il tipo\n",
        "type(b)"
      ],
      "metadata": {
        "id": "fnngpJDD5c-A",
        "colab": {
          "base_uri": "https://localhost:8080/"
        },
        "outputId": "4bba5980-429e-4129-8da6-73d9f0998db3"
      },
      "execution_count": null,
      "outputs": [
        {
          "output_type": "execute_result",
          "data": {
            "text/plain": [
              "list"
            ]
          },
          "metadata": {},
          "execution_count": 15
        }
      ]
    },
    {
      "cell_type": "code",
      "source": [
        "lista = [12, \"pippo\", 37, 92, [\"qui\", [8, 12, 24], \"qua\"], 58] \n",
        "print(lista[4][1][2])"
      ],
      "metadata": {
        "id": "ISXFSF7-52Zv",
        "colab": {
          "base_uri": "https://localhost:8080/"
        },
        "outputId": "0c3a419a-4aa8-468b-ff2d-900c9a0a533b"
      },
      "execution_count": null,
      "outputs": [
        {
          "output_type": "stream",
          "name": "stdout",
          "text": [
            "24\n"
          ]
        }
      ]
    },
    {
      "cell_type": "code",
      "source": [
        "lista1 = [1,2,3,4,5,6,7,8,9,10]\n",
        "print (lista1[-1]) #trova l'ultimo elemento della lista"
      ],
      "metadata": {
        "colab": {
          "base_uri": "https://localhost:8080/"
        },
        "id": "lskSj_0b7jNw",
        "outputId": "82475832-7821-49a3-9220-a3c9eae95c71"
      },
      "execution_count": null,
      "outputs": [
        {
          "output_type": "stream",
          "name": "stdout",
          "text": [
            "10\n"
          ]
        }
      ]
    },
    {
      "cell_type": "code",
      "source": [
        "#trovare num da 3 a 6\n",
        "num = [0,11,23,33,44,5,6,8,7,9]\n",
        "print(num[3:7]) \n",
        "#visualizzazione degli ultimi 5 elem\n",
        "print(num[5:])\n",
        "#visualizzazione primi 5 elem\n",
        "print(num[:5])\n",
        "#visualizzazione del penultimo e terzultimo\n",
        "print(num[-8:-6])#considera il primo num(-8) come partenza e il secondo num(-6) quello prima = -5\n",
        "\n",
        "#visualizzazione numeri due a due\n",
        "print(num[3:10:2])\n",
        "#visualizzazione numeri due a due partendo da 0 fino alla fine\n",
        "print(num[::2])"
      ],
      "metadata": {
        "colab": {
          "base_uri": "https://localhost:8080/"
        },
        "id": "vjMH08q-9MPx",
        "outputId": "bb7b049a-5b1b-4b8d-c0a0-edb51d07c3e9"
      },
      "execution_count": null,
      "outputs": [
        {
          "output_type": "stream",
          "name": "stdout",
          "text": [
            "[33, 44, 5, 6]\n",
            "[5, 6, 8, 7, 9]\n",
            "[0, 11, 23, 33, 44]\n",
            "[23, 33]\n",
            "[33, 5, 8, 9]\n",
            "[0, 23, 44, 6, 7]\n"
          ]
        }
      ]
    },
    {
      "cell_type": "code",
      "source": [
        "12 in num"
      ],
      "metadata": {
        "colab": {
          "base_uri": "https://localhost:8080/"
        },
        "id": "ig3ULEFBAcBn",
        "outputId": "afd54072-2ac6-489a-846e-d556c96ab297"
      },
      "execution_count": null,
      "outputs": [
        {
          "output_type": "execute_result",
          "data": {
            "text/plain": [
              "False"
            ]
          },
          "metadata": {},
          "execution_count": 48
        }
      ]
    },
    {
      "cell_type": "code",
      "source": [
        "stringa = \"la mamma è bella\"\n",
        "print(stringa)\n",
        "lista = list(stringa) #trasforma la stringa in una lista\n",
        "print(lista)"
      ],
      "metadata": {
        "colab": {
          "base_uri": "https://localhost:8080/"
        },
        "id": "U2gtAcKvA5-J",
        "outputId": "296b6e4b-9e38-4cc8-ddfe-09821bc81705"
      },
      "execution_count": null,
      "outputs": [
        {
          "output_type": "stream",
          "name": "stdout",
          "text": [
            "la mamma è bella\n",
            "['l', 'a', ' ', 'm', 'a', 'm', 'm', 'a', ' ', 'è', ' ', 'b', 'e', 'l', 'l', 'a']\n"
          ]
        }
      ]
    },
    {
      "cell_type": "code",
      "source": [
        "lista = [1,2,3]\n",
        "#aggiunge un elemento alla fine\n",
        "lista.append (12) \n",
        "print (lista)\n",
        "lista.append([10,19])\n",
        "print (lista)\n",
        "#aggiunge una lista dalla lista alla lista\n",
        "lista.extend([20,30])\n",
        "print (lista)"
      ],
      "metadata": {
        "colab": {
          "base_uri": "https://localhost:8080/"
        },
        "id": "efjhjb0dBoGn",
        "outputId": "27838c11-ed56-4864-b976-140353957af4"
      },
      "execution_count": null,
      "outputs": [
        {
          "output_type": "stream",
          "name": "stdout",
          "text": [
            "[1, 2, 3, 12]\n",
            "[1, 2, 3, 12, [10, 19]]\n",
            "[1, 2, 3, 12, [10, 19], 20, 30]\n"
          ]
        }
      ]
    },
    {
      "cell_type": "code",
      "source": [
        "#Inizializzare una lista con 8, 18, 27, -8, 51, 40, -9, -76\n",
        "lista= [8, 18, 27, -8, 51, 40, -9, -76]\n",
        "print (lista)"
      ],
      "metadata": {
        "colab": {
          "base_uri": "https://localhost:8080/"
        },
        "id": "GiiwOmHB6Vn2",
        "outputId": "69b9f973-8ac7-4228-8bcc-bc4970bcd43d"
      },
      "execution_count": null,
      "outputs": [
        {
          "output_type": "stream",
          "name": "stdout",
          "text": [
            "[8, 18, 27, -8, 51, 40, -9, -76]\n"
          ]
        }
      ]
    },
    {
      "cell_type": "code",
      "source": [
        "#Aggiungere in fondo alla lista i valori 7, 4, 95\n",
        "lista.extend([7,4,5])\n",
        "print (lista)"
      ],
      "metadata": {
        "colab": {
          "base_uri": "https://localhost:8080/"
        },
        "id": "Xksq4TSZ6t1v",
        "outputId": "02fddd9f-3a94-48e9-82fd-c327ace17895"
      },
      "execution_count": null,
      "outputs": [
        {
          "output_type": "stream",
          "name": "stdout",
          "text": [
            "[8, 18, 27, -8, 51, 40, -9, -76, 7, 4, 5]\n"
          ]
        }
      ]
    },
    {
      "cell_type": "code",
      "source": [
        "\n",
        "#Aggiungere all'inizio della lista i valori 7, 4, 95\n",
        "#lista1= [8, 18, 27, -8, 51, 40, -9, -76]\n",
        "#lista1.insert(0,[3,99,7]) \n",
        "print (lista1)\n",
        "\n",
        "#Visualizzare il numero di elementi della lista \n",
        "len(lista1) \n",
        "\n",
        "#Aggiungere in quarta posizione il valore 100\n",
        "lista1.insert (4, 100)\n",
        "print (lista1)\n",
        "\n",
        "#Eliminare il terzultimo elemento della lista\n",
        "del lista1[-3]\n",
        "print(lista1)"
      ],
      "metadata": {
        "id": "OUY1kF7L9FNA"
      },
      "execution_count": null,
      "outputs": []
    },
    {
      "cell_type": "code",
      "source": [
        "#Visualizzare il valore massimo, minimo della lista\n",
        "lista2= [7, 18, 27, -8, 50, 40, -9, -73]\n",
        "\n",
        "max(lista2)\n",
        "print(\"min =\",min(lista2))\n",
        "\n",
        "\n",
        "#Calcolare la somma degli elementi della lista \n",
        "print(\"total =\",sum(lista2))\n",
        "\n",
        "#Calcolare la media degli elementi della lista\n",
        "print(\"average =\",sum(lista2)/len(lista2))"
      ],
      "metadata": {
        "id": "Rd8OB7rbDoqG",
        "outputId": "8f47359b-0ef9-41f3-a7ad-3ca4bd67e7e9",
        "colab": {
          "base_uri": "https://localhost:8080/"
        }
      },
      "execution_count": null,
      "outputs": [
        {
          "output_type": "stream",
          "name": "stdout",
          "text": [
            "min = -73\n",
            "total = 52\n",
            "average = 6.5\n"
          ]
        }
      ]
    },
    {
      "cell_type": "code",
      "source": [
        "#Rimuovere dalla lista il numero 7\n",
        "lista2= [7, 18, 27, -8, 50, 40, -9, -73]\n",
        "lista2.remove(7)\n",
        "print(lista2)\n",
        "\n",
        "#Visualizzare gli elementi di posto pari\n",
        "print(lista2[2::2])\n",
        "#Visualizzare gli elementi di posto dispari"
      ],
      "metadata": {
        "colab": {
          "base_uri": "https://localhost:8080/"
        },
        "id": "jwxoC-kaKYGF",
        "outputId": "e923a483-1b67-4969-8b99-a26c95afb873"
      },
      "execution_count": null,
      "outputs": [
        {
          "output_type": "stream",
          "name": "stdout",
          "text": [
            "[18, 27, -8, 50, 40, -9, -73]\n",
            "[-8]\n"
          ]
        }
      ]
    },
    {
      "cell_type": "code",
      "source": [
        "\n",
        "13. Visualizzare gli elementi di posto pari\n",
        "14. Visualizzare gli elementi di posto dispari\n",
        "15. Visualizzare i primi 5 elementi \n",
        "16. Visualizzare gli ultimi 5 elementi\n",
        "17. Visualizzare i 5 elementi centrali\n",
        "18. Rimuovere i duplicati presenti nella lista"
      ],
      "metadata": {
        "id": "sF3ofJvpAo_Q"
      },
      "execution_count": null,
      "outputs": []
    }
  ]
}