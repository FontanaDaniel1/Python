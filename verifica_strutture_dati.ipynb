{
  "nbformat": 4,
  "nbformat_minor": 0,
  "metadata": {
    "colab": {
      "provenance": [],
      "include_colab_link": true
    },
    "kernelspec": {
      "name": "python3",
      "display_name": "Python 3"
    },
    "language_info": {
      "name": "python"
    }
  },
  "cells": [
    {
      "cell_type": "markdown",
      "metadata": {
        "id": "view-in-github",
        "colab_type": "text"
      },
      "source": [
        "<a href=\"https://colab.research.google.com/github/FontanaDaniel1/Python/blob/main/verifica_strutture_dati.ipynb\" target=\"_parent\"><img src=\"https://colab.research.google.com/assets/colab-badge.svg\" alt=\"Open In Colab\"/></a>"
      ]
    },
    {
      "cell_type": "markdown",
      "source": [
        "Scrivere il codice richiesto nei vari esercizi facendo in modo di scrivere il codice ottimale per rispondere alla richiesta (il più veloce, quello con meno istruzioni, quello che può funzionare con strutture dati di lunghezza diversa, ...)"
      ],
      "metadata": {
        "id": "V-uw65vXN8fi"
      }
    },
    {
      "cell_type": "markdown",
      "source": [
        "##Esercizio 1"
      ],
      "metadata": {
        "id": "xXqI-Ok3Lxoi"
      }
    },
    {
      "cell_type": "markdown",
      "source": [
        "Tre amici devono mettersi d'accordo per uscire una sera a bere una birra. Aldo  disponibile il lunedì, il mercoledì e il venerdì, Gianni il martedì, il giovedì e il sabato e Andrea IL mercoledì, il giovedì il venerdì e il sabato."
      ],
      "metadata": {
        "id": "jCT_Wi_4ISzf"
      }
    },
    {
      "cell_type": "markdown",
      "source": [
        "1. memorizzare le informazioni del testo precedente in una opportuna struttura dati, tenendo anche conto delle richieste degli esercizi successivi"
      ],
      "metadata": {
        "id": "Nzle6Zy7IpLU"
      }
    },
    {
      "cell_type": "code",
      "source": [
        "giorni = {\"lunedì\",\"martedì\",\"mercoledì\",\"giovedì\",\"venerdì\", \"sabato\", \"domenica\"}\n",
        "aldo = {\"lunedì\",\"mercoledì\",\"venerdì\"}\n",
        "gianni = {\"martedì\", \"giovedì\", \"sabato\"}\n",
        "andrea = {\"mercoledì\", \"giovedì\",\"venerdì\", \"sabato\"}"
      ],
      "metadata": {
        "id": "5To3RwMDIzAZ"
      },
      "execution_count": null,
      "outputs": []
    },
    {
      "cell_type": "markdown",
      "source": [
        "2. quali giorni potrebbero andare bene a tutti e tre gli amici?"
      ],
      "metadata": {
        "id": "BJxpeYQcIzqN"
      }
    },
    {
      "cell_type": "code",
      "source": [
        "giorni_ottimali = giorni.intersection(aldo, gianni, andrea)\n",
        "print(giorni_ottimali, \"nessuno\")"
      ],
      "metadata": {
        "id": "_LtiaCPDI6p-"
      },
      "execution_count": null,
      "outputs": []
    },
    {
      "cell_type": "markdown",
      "source": [
        "3. in quali giorni nessuno  libero?"
      ],
      "metadata": {
        "id": "Gukw3fgGI6_o"
      }
    },
    {
      "cell_type": "code",
      "source": [
        "giorno_occupato_tutti= giorni.difference(aldo, gianni, andrea)\n",
        "print(giorno_occupato_tutti)"
      ],
      "metadata": {
        "id": "mMGUblkYI_M-"
      },
      "execution_count": null,
      "outputs": []
    },
    {
      "cell_type": "markdown",
      "source": [
        "4. in quali giorni Aldo e Andrea sono liberi?"
      ],
      "metadata": {
        "id": "d4GL2H13I_jY"
      }
    },
    {
      "cell_type": "code",
      "source": [
        "print(\"aldo\", aldo, \"e andrea\", andrea)"
      ],
      "metadata": {
        "id": "Fa24_EhWJHHr"
      },
      "execution_count": null,
      "outputs": []
    },
    {
      "cell_type": "markdown",
      "source": [
        "5. in quali giorni almeno due amici sono liberi?"
      ],
      "metadata": {
        "id": "M_46HVApJHds"
      }
    },
    {
      "cell_type": "code",
      "execution_count": null,
      "metadata": {
        "id": "sedw49_3IPek"
      },
      "outputs": [],
      "source": [
        "giorni_liberi = giorni.intersection(aldo, gianni)\n",
        "print(giorni_liberi, \"nessuno\")\n",
        "\n",
        "giorni_liberi = giorni.intersection(aldo, andrea)\n",
        "print(giorni_liberi)\n",
        "\n",
        "giorni_liberi = giorni.intersection(gianni, andrea)\n",
        "print(giorni_liberi)"
      ]
    },
    {
      "cell_type": "markdown",
      "source": [
        "##Esercizio 2"
      ],
      "metadata": {
        "id": "ESIhTrtGNI52"
      }
    },
    {
      "cell_type": "markdown",
      "source": [
        "Si vogliono  memorizzare i nomi dei re di Roma dal primo all'ultimo ed effettuare su di essi alcune operazioni."
      ],
      "metadata": {
        "id": "LXoA2IiMNK5l"
      }
    },
    {
      "cell_type": "markdown",
      "source": [
        "1. memorizzare le informazioni del testo precedente in una opportuna struttura dati, tenendo anche conto delle richieste degli esercizi successivi"
      ],
      "metadata": {
        "id": "kf_MPrGfNewd"
      }
    },
    {
      "cell_type": "code",
      "source": [
        "reRoma = [\"Romolo\", \"Numa Pompilio\", \"Tullo Ostilio\", \"Anco Marzio\", \"Tarquinio Prisco\", \"Servio Tullio\", \"Tarquinio il Superbo\"] #chiedere perchè dovesse essere un insieme, tupla ..."
      ],
      "metadata": {
        "id": "IMshiJk-Njyn"
      },
      "execution_count": null,
      "outputs": []
    },
    {
      "cell_type": "markdown",
      "source": [
        "2. visualizzare i nomi del primo e dell'ultimo re di Roma"
      ],
      "metadata": {
        "id": "A0TPcne-NkRg"
      }
    },
    {
      "cell_type": "code",
      "source": [
        "print(\"dal primo all'ultimo\", reRoma)"
      ],
      "metadata": {
        "id": "_T889pE4N1Jc"
      },
      "execution_count": null,
      "outputs": []
    },
    {
      "cell_type": "markdown",
      "source": [
        "3. visualizzare i nomi dei re dall'ultimo al primo"
      ],
      "metadata": {
        "id": "Vy4vE6axO3Z0"
      }
    },
    {
      "cell_type": "code",
      "source": [
        "for i in reversed(reRoma): #leggere lista al contrario\n",
        "    print(i)"
      ],
      "metadata": {
        "id": "pmL0kGIxPFDo"
      },
      "execution_count": null,
      "outputs": []
    },
    {
      "cell_type": "markdown",
      "source": [
        "##Esercizio 3"
      ],
      "metadata": {
        "id": "oJMwiPwtPFsR"
      }
    },
    {
      "cell_type": "markdown",
      "source": [
        "Si vogliono memorizzare alcune informazioni riguardanti i gas nobili. In particolare si vogliono memorizzare il nome, il simbolo chimico e il numero atomico e permettere all'utente di visualizzare alcune informazioni"
      ],
      "metadata": {
        "id": "PwpHAfJfPKPN"
      }
    },
    {
      "cell_type": "markdown",
      "source": [
        "1. memorizzare le informazioni del testo precedente in una opportuna struttura dati, tenendo anche conto delle richieste degli esercizi successivi"
      ],
      "metadata": {
        "id": "nMR7-yhOja0A"
      }
    },
    {
      "cell_type": "code",
      "source": [
        "gas_nobili = [{\"nome\":\"elio\", \n",
        "    \"simbolo\": \"He\", \n",
        "    \"N atomico\": 2\n",
        "    }, \n",
        "\n",
        "     {\n",
        "    \"nome\":\"neon\", \n",
        "    \"simbolo\": \"Ne\", \n",
        "    \"N atomico\": 10\n",
        "    }, \n",
        "\n",
        "    {\n",
        "    \"nome\":\"argon\", \n",
        "    \"simbolo\": \"Ar\", \n",
        "    \"N atomico\": 18\n",
        "    }, \n",
        "\n",
        "     {\n",
        "    \"nome\":\"kripton\", \n",
        "    \"simbolo\": \"Kr\", \n",
        "    \"N atomico\": 36\n",
        "    }, \n",
        "\n",
        "     {\n",
        "    \"nome\":\"xeno\", \n",
        "    \"simbolo\": \"Xe\", \n",
        "    \"N atomico\": 54\n",
        "    }, \n",
        "\n",
        "     {\n",
        "    \"nome\":\"radon\", \n",
        "    \"simbolo\": \"Rn\", \n",
        "    \"N atomico\": 86\n",
        "    }]"
      ],
      "metadata": {
        "id": "BciFoGwsjg-I"
      },
      "execution_count": null,
      "outputs": []
    },
    {
      "cell_type": "markdown",
      "source": [
        "2. far inserire all'utente il nome di un gas nobile e fornire tutte le informaqzioni riguardanti il gas prescelto"
      ],
      "metadata": {
        "id": "cjApSmUGjhhd"
      }
    },
    {
      "cell_type": "code",
      "source": [
        "val_input = input(\"gas nobile = \", )\n",
        "for gas in gas_nobili:\n",
        "  if gas[\"nome\"] == val_input:\n",
        "    print(gas)"
      ],
      "metadata": {
        "id": "zqD2T38Sjt3N"
      },
      "execution_count": null,
      "outputs": []
    },
    {
      "cell_type": "markdown",
      "source": [
        "3. visualizzare il gas nobile con il numero atomico più alto"
      ],
      "metadata": {
        "id": "Xer44tOLjuVu"
      }
    },
    {
      "cell_type": "code",
      "source": [
        "n_atomico = [gas_nobili[i][\"N atomico\"]for i in range(len(gas_nobili))]\n",
        "print(max(n_atomico))\n",
        "\n",
        "for i in gas_nobili:\n",
        "  if max(n_atomico) == i[\"N atomico\"]:\n",
        "    print(i[\"nome\"])"
      ],
      "metadata": {
        "id": "DqfAHRj7jzxv"
      },
      "execution_count": null,
      "outputs": []
    },
    {
      "cell_type": "markdown",
      "source": [
        "4. supporre che sia stao scoperto un nuovo gas nobile, il proton (PR) con numero atomico 37. Aggiungerlo alla struttura dati."
      ],
      "metadata": {
        "id": "rMZvxCfbj0WF"
      }
    },
    {
      "cell_type": "code",
      "source": [
        "gas_nobili.append({\"nome\":\"proton\"})\n",
        "gas_nobili.append({\"simbolo\": \"Pr\"}) \n",
        "gas_nobili.append({\"n atomico\": \"37\"}) \n",
        "\n",
        "#gas_nobili[\"nome\"] = \"proton\"\n",
        "#gas_nobili[\"simbolo\"] = \"Pr\"\n",
        "#gas_nobili[\"n atomico\"] = \"37\"\n",
        "\n",
        "print(gas_nobili)"
      ],
      "metadata": {
        "id": "rvhARcWkksjA"
      },
      "execution_count": null,
      "outputs": []
    },
    {
      "cell_type": "markdown",
      "source": [
        "5. visualizzare i nomi dei gas nobili in ordine alfabetico"
      ],
      "metadata": {
        "id": "VlIfCVcKkt9n"
      }
    },
    {
      "cell_type": "code",
      "source": [
        "#gas_nobili.sort())\n",
        "#print(gas_nobili)\n",
        "\n",
        "import collections\n",
        "sorted_dict = collections.OrderedDict(gas_nobili)"
      ],
      "metadata": {
        "id": "DWDq3jsdk24Q"
      },
      "execution_count": null,
      "outputs": []
    },
    {
      "cell_type": "markdown",
      "source": [
        "##Esercizio 4"
      ],
      "metadata": {
        "id": "Hk-uDGLmk-vo"
      }
    },
    {
      "cell_type": "markdown",
      "source": [
        "1. caricare in una lista 100 numeri casuali compresi tra 1 e 50"
      ],
      "metadata": {
        "id": "TfLDWl4ClA6H"
      }
    },
    {
      "cell_type": "code",
      "source": [
        "import random\n",
        "listaCasuale = [random.randint(1,50) for x in range(100)]\n",
        "print(listaCasuale)"
      ],
      "metadata": {
        "id": "UqCuNcCZlIBy"
      },
      "execution_count": null,
      "outputs": []
    },
    {
      "cell_type": "markdown",
      "source": [
        "2. eliminare i duplicati"
      ],
      "metadata": {
        "id": "ti7kVIfqlIjt"
      }
    },
    {
      "cell_type": "code",
      "source": [
        "lista = list(set(listaCasuale))\n",
        "print(lista)"
      ],
      "metadata": {
        "id": "DhxE8_eolLEi",
        "colab": {
          "base_uri": "https://localhost:8080/"
        },
        "outputId": "6924a7a5-54f8-4560-cbb7-ee1a6f43adf5"
      },
      "execution_count": null,
      "outputs": [
        {
          "output_type": "stream",
          "name": "stdout",
          "text": [
            "[3, 5, 6, 7, 8, 9, 12, 13, 14, 15, 16, 17, 18, 19, 20, 21, 22, 23, 24, 25, 26, 27, 28, 29, 30, 31, 32, 33, 34, 35, 37, 38, 39, 40, 42, 43, 44, 45, 46, 47, 48, 49, 50]\n"
          ]
        }
      ]
    },
    {
      "cell_type": "markdown",
      "source": [
        "3. visualizzare i numeri rimasti che non sono multipli di 3"
      ],
      "metadata": {
        "id": "99z3W_dIlMPo"
      }
    },
    {
      "cell_type": "code",
      "source": [
        "for i in lista:\n",
        "  resto = i % 3\n",
        "  if resto != 0:\n",
        "     print(i)"
      ],
      "metadata": {
        "id": "OjPtNwQRlXIP"
      },
      "execution_count": null,
      "outputs": []
    }
  ]
}