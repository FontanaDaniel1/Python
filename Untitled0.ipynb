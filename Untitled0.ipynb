{
  "nbformat": 4,
  "nbformat_minor": 0,
  "metadata": {
    "colab": {
      "provenance": [],
      "authorship_tag": "ABX9TyO2qglKgy+h5qeWiQLezgg5",
      "include_colab_link": true
    },
    "kernelspec": {
      "name": "python3",
      "display_name": "Python 3"
    },
    "language_info": {
      "name": "python"
    }
  },
  "cells": [
    {
      "cell_type": "markdown",
      "metadata": {
        "id": "view-in-github",
        "colab_type": "text"
      },
      "source": [
        "<a href=\"https://colab.research.google.com/github/FontanaDaniel1/Python/blob/main/Untitled0.ipynb\" target=\"_parent\"><img src=\"https://colab.research.google.com/assets/colab-badge.svg\" alt=\"Open In Colab\"/></a>"
      ]
    },
    {
      "cell_type": "code",
      "execution_count": null,
      "metadata": {
        "id": "R_dqXtWeBnu-"
      },
      "outputs": [],
      "source": [
        "print(\"Hello world\")\n"
      ]
    },
    {
      "cell_type": "code",
      "source": [
        "a = 10 \n",
        "b = 20\n",
        "c = 10.5\n",
        "\n",
        "print(a,b,c)"
      ],
      "metadata": {
        "id": "mBCfh9QdFS66"
      },
      "execution_count": null,
      "outputs": []
    },
    {
      "cell_type": "code",
      "source": [
        "somma = a + b \n",
        "sottrazione = a - b\n",
        "moltiplicazione = a * b\n",
        "divisione = a / b\n",
        "\n",
        "print (somma,sottrazione, moltiplicazione, divisione)"
      ],
      "metadata": {
        "id": "r492DfyaFrGi"
      },
      "execution_count": null,
      "outputs": []
    },
    {
      "cell_type": "code",
      "source": [
        "# inserimento dati\n",
        "\n",
        "peso = input (\"Inserisci il tuo peso \")\n",
        "altezza = input (\"Inserisci la tua altezza \")\n",
        "imc = int(peso) / (float(altezza) * float(altezza))\n",
        "\n",
        "print (\"Il tuo indice di massa corporea è \", imc)\n",
        "\n",
        "if imc <= 16:\n",
        "  print  (\"Grave magrezza\")\n",
        "elif imc < 18:\n",
        " print (\"Sovrappeso\")\n",
        "elif imc < 25:\n",
        " print (\"Normopeso\")\n",
        "elif imc < 30:\n",
        " print (\"Sovrappeso\")\n",
        "elif imc >= 31:\n",
        "  print (\"Grave sovrappeso\")\n",
        "\n"
      ],
      "metadata": {
        "id": "QVe8ZMmoGZei"
      },
      "execution_count": null,
      "outputs": []
    },
    {
      "cell_type": "code",
      "source": [
        "#scrivere un programma che calcoli le tasse da pagare\n",
        "#se il reddito inferiore a 30 k si paga 15%\n",
        "#se compreso tra 30/60 k si paga 20%\n",
        "#se superiore a 60 k si paga 30%\n",
        "\n",
        "reddito = (input(\"Inserisci il tuo reddito: \"))\n",
        "if reddito <= \"30000\": \n",
        " tasse = int(reddito) / 100 * 15\n",
        "elif reddito <= \"60000\": \n",
        " tasse = int(reddito) / 100 * 20\n",
        "elif reddito >= \"60000\": \n",
        "  tasse = int(reddito) / 100 * 30\n",
        "\n",
        "print (\"Tasse da pagare: \", tasse)\n",
        "\n"
      ],
      "metadata": {
        "id": "msVlNVjoO-eb"
      },
      "execution_count": null,
      "outputs": []
    },
    {
      "cell_type": "code",
      "source": [
        "#un negozio vuole incetivare gli acquisti applicando sconti maggiori a chi spende di +. \n",
        "#se spende fino a 100 sconto del 15 %\n",
        "#se spende da 100 a 200 sconto del 20%\n",
        "# se spende da 200 a 300 sconto del 40%\n",
        "#oltre 400 sconto del 60%\n",
        "#scrivere un programma che dato il totale calcoli il prezzo finale che il cliente deve pagare\n",
        "\n",
        "spesa = (input(\"totale spesa: \"))\n",
        "\n",
        "if spesa == \"100\":\n",
        " sconto = float(spesa) / 100 * 15\n",
        "elif spesa <= \"200\":\n",
        " sconto = float(spesa) / 100 * 20\n",
        "elif spesa <= \"300\":\n",
        " sconto = float(spesa) / 100 * 40\n",
        "elif spesa > \"400\":\n",
        " sconto = float(spesa) / 100 * 60\n",
        "spesa = float(spesa) - float(sconto)\n",
        "\n",
        "print (\"prezzo finale è\", spesa)\n"
      ],
      "metadata": {
        "id": "LaJAmD18QfuT"
      },
      "execution_count": null,
      "outputs": []
    }
  ]
}