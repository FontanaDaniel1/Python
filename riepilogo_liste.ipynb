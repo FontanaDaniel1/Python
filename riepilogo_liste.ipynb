{
  "nbformat": 4,
  "nbformat_minor": 0,
  "metadata": {
    "colab": {
      "provenance": [],
      "collapsed_sections": [],
      "authorship_tag": "ABX9TyN2cvPPF89+zJ7nuwaNHhHP",
      "include_colab_link": true
    },
    "kernelspec": {
      "name": "python3",
      "display_name": "Python 3"
    },
    "language_info": {
      "name": "python"
    }
  },
  "cells": [
    {
      "cell_type": "markdown",
      "metadata": {
        "id": "view-in-github",
        "colab_type": "text"
      },
      "source": [
        "<a href=\"https://colab.research.google.com/github/FontanaDaniel1/Python/blob/main/riepilogo_liste.ipynb\" target=\"_parent\"><img src=\"https://colab.research.google.com/assets/colab-badge.svg\" alt=\"Open In Colab\"/></a>"
      ]
    },
    {
      "cell_type": "markdown",
      "source": [
        "questo notebook contiene info fondamentali per lavorare sulle liste"
      ],
      "metadata": {
        "id": "Lo1t-nPyDdkq"
      }
    },
    {
      "cell_type": "markdown",
      "source": [
        "una lista è una struttura di dati dinamica utilizzata per memorizzare i dati modo non permanente, salvataggio nella ram.\n",
        "Dinamico significa che la dimensione della lista non deve essere fissata a priori.\n",
        "Non permanente significa che i dati memorizzati nella lista vengono cancellati quando si chiude il noteboook "
      ],
      "metadata": {
        "id": "-VYG6o_dDwJm"
      }
    },
    {
      "cell_type": "markdown",
      "source": [
        "1 inizializzazione di una lista"
      ],
      "metadata": {
        "id": "XpyZwAwvFGaG"
      }
    },
    {
      "cell_type": "code",
      "source": [
        "lista = [1,2,3,4,5]"
      ],
      "metadata": {
        "id": "l6rNmVo0GL4y"
      },
      "execution_count": 2,
      "outputs": []
    },
    {
      "cell_type": "markdown",
      "source": [
        "2 inserimento di elementi"
      ],
      "metadata": {
        "id": "KJoBRA6kFK6A"
      }
    },
    {
      "cell_type": "code",
      "source": [
        "lista.append(10) #aggiungi un elemento alla fine della lista\n",
        "lista.extend ([11,12,13]) #aggiungo 3 elementi alla fine della lista\n",
        "lista.insert (5,20) #aggiunge num 20 a posizione 5"
      ],
      "metadata": {
        "id": "wcVIOfu5GbVx"
      },
      "execution_count": 6,
      "outputs": []
    },
    {
      "cell_type": "markdown",
      "source": [
        "3 visualizzazione della lista"
      ],
      "metadata": {
        "id": "WPbebZJwFQNm"
      }
    },
    {
      "cell_type": "code",
      "source": [
        "print(lista)"
      ],
      "metadata": {
        "id": "XiYhfg-XHbnW"
      },
      "execution_count": null,
      "outputs": []
    },
    {
      "cell_type": "markdown",
      "source": [
        "4 rimozione di elementi in una lista"
      ],
      "metadata": {
        "id": "5vjTuRirFTB9"
      }
    },
    {
      "cell_type": "code",
      "source": [
        "lista.remove(10) #rimuove la prima occorrenza(istanza) del num 10\n",
        "lista.pop(10) #rimuove l'elemento in posizione 10\n",
        "del lista[10] #rimuove l'elemento in posizione 10 "
      ],
      "metadata": {
        "id": "EEgJDu9XH2_z"
      },
      "execution_count": null,
      "outputs": []
    },
    {
      "cell_type": "markdown",
      "source": [
        "5  aggiunta di un elemento di una lista"
      ],
      "metadata": {
        "id": "nLCWYBN_FWPU"
      }
    },
    {
      "cell_type": "code",
      "source": [
        "lista.append(10) #aggiungi un elemento alla fine della lista\n",
        "lista.extend ([11,12,13]) #aggiungo 3 elementi alla fine della lista\n",
        "lista.insert (5,20) #aggiunge num 20 a posizione 5"
      ],
      "metadata": {
        "id": "BQ3RV5-aJKCc"
      },
      "execution_count": 16,
      "outputs": []
    },
    {
      "cell_type": "markdown",
      "source": [
        "6 visualizzazione di uno o più elementi in una lista"
      ],
      "metadata": {
        "id": "MxOWblRbFdRZ"
      }
    },
    {
      "cell_type": "code",
      "source": [
        "print(lista[4]) #visualizza il quinto elemento, cioè l'elemento in posizione 4 perchè l'indice della lista parte da 0\n",
        "print(lista[4:8]) #slicing: visualizzare gli elementi dalla posizione 4 alla posizone 7\n",
        "print(lista[4:8:2]) #slicing: visualizzare gli elementi dalla posizione 4 alla posizone 7 due a due\n",
        "print(lista[4:]) #visualizza gli elementi dal 4 fino alla fine\n",
        "print(lista[:4]) #visualizza gli elementi fino alla posizione 3\n",
        "print(lista[::4]) #prende tutti i numeri a 4 a 4\n",
        "print(lista[-1]) #visualizza l'ultimo elemento"
      ],
      "metadata": {
        "id": "kU7WCYpZJNQJ"
      },
      "execution_count": null,
      "outputs": []
    },
    {
      "cell_type": "markdown",
      "source": [
        "7 trovare minimo, massimo in una lista"
      ],
      "metadata": {
        "id": "Q_pU-0URFxbx"
      }
    },
    {
      "cell_type": "code",
      "source": [
        "min(lista)\n",
        "max(lista)"
      ],
      "metadata": {
        "id": "ZZvL8h2pLwjD"
      },
      "execution_count": null,
      "outputs": []
    },
    {
      "cell_type": "markdown",
      "source": [
        "8 effettuare operazioni sugli elementi di una lista"
      ],
      "metadata": {
        "id": "obRWJdO7F5IB"
      }
    },
    {
      "cell_type": "code",
      "source": [
        "sum(lista) #somma ti tutti gli elementi\n",
        "from statistics import mean \n",
        "mean(lista) #calcola la media di tutti gli elementi di una lista\n",
        "len(lista) #conta quanti elementi ha la lista"
      ],
      "metadata": {
        "id": "dduOqTXlMNFj"
      },
      "execution_count": null,
      "outputs": []
    },
    {
      "cell_type": "markdown",
      "source": [
        "9 ordinare gli elementi di una lista in ordine crescente e descrescente"
      ],
      "metadata": {
        "id": "ap4Bq1cEF88I"
      }
    },
    {
      "cell_type": "code",
      "source": [
        "lista.sort() #ordina gli elementi di una lista in ordine crescente\n",
        "lista.sort(reverse=True) #ordina gli elementi di una lista in ordine decrescente\n",
        "print(lista)"
      ],
      "metadata": {
        "id": "kFl0A5TANCdy"
      },
      "execution_count": null,
      "outputs": []
    },
    {
      "cell_type": "markdown",
      "source": [
        "10 controllo della presenza di un elemento"
      ],
      "metadata": {
        "id": "7pl23IxdOYOz"
      }
    },
    {
      "cell_type": "code",
      "source": [
        "9 in lista #resituisce se il 9 è presente nella lista"
      ],
      "metadata": {
        "id": "HBKZ19L-OY1b"
      },
      "execution_count": null,
      "outputs": []
    }
  ]
}