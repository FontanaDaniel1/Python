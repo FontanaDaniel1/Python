{
  "nbformat": 4,
  "nbformat_minor": 0,
  "metadata": {
    "colab": {
      "provenance": [],
      "authorship_tag": "ABX9TyORc7LLAzEeTOQElIzy/lLq",
      "include_colab_link": true
    },
    "kernelspec": {
      "name": "python3",
      "display_name": "Python 3"
    },
    "language_info": {
      "name": "python"
    }
  },
  "cells": [
    {
      "cell_type": "markdown",
      "metadata": {
        "id": "view-in-github",
        "colab_type": "text"
      },
      "source": [
        "<a href=\"https://colab.research.google.com/github/FontanaDaniel1/Python/blob/main/correzione_verifica(film).ipynb\" target=\"_parent\"><img src=\"https://colab.research.google.com/assets/colab-badge.svg\" alt=\"Open In Colab\"/></a>"
      ]
    },
    {
      "cell_type": "markdown",
      "source": [
        "caricare i dati del file in un dataframe Pandas"
      ],
      "metadata": {
        "id": "SvRBeKljpni1"
      }
    },
    {
      "cell_type": "code",
      "execution_count": null,
      "metadata": {
        "id": "jqRDTD0Xpj8p"
      },
      "outputs": [],
      "source": [
        "import pandas as pd\n",
        "df = pd.read_csv('https://raw.githubusercontent.com/wtitze/3E/main/2010.csv', sep = ';')\n",
        "df"
      ]
    },
    {
      "cell_type": "markdown",
      "source": [
        " visualizzare le colonne del titolo e del genere dei primi 10 film"
      ],
      "metadata": {
        "id": "43YfUiwQpp18"
      }
    },
    {
      "cell_type": "code",
      "source": [
        "df.head(10)[['Title', 'Genres']]"
      ],
      "metadata": {
        "id": "X0casaEGprjE"
      },
      "execution_count": null,
      "outputs": []
    },
    {
      "cell_type": "markdown",
      "source": [
        "visualizzare le colonne del titolo e del genere dei primi 10 film in un modo diverso dal precedente"
      ],
      "metadata": {
        "id": "VjuQR4zXpr3E"
      }
    },
    {
      "cell_type": "code",
      "source": [
        "df.iloc[0:10][['Title', 'Genres']]"
      ],
      "metadata": {
        "id": "zIGOhfD3puOM"
      },
      "execution_count": null,
      "outputs": []
    },
    {
      "cell_type": "markdown",
      "source": [
        "visualizzare i film in inglese realizzati in Francia"
      ],
      "metadata": {
        "id": "9MIESFGOrhb8"
      }
    },
    {
      "cell_type": "code",
      "source": [
        "df[(df['Language'] == 'English') & (df['Country'] == 'France')]"
      ],
      "metadata": {
        "id": "EDqWlIKHri6l"
      },
      "execution_count": null,
      "outputs": []
    },
    {
      "cell_type": "markdown",
      "source": [
        "visualizzare i film di guerra drammatici"
      ],
      "metadata": {
        "id": "fAXPE-PwrjMs"
      }
    },
    {
      "cell_type": "code",
      "source": [
        "df[(df['Genres'].str.contains('Drama')) & (df['Genres'].str.contains('War'))]"
      ],
      "metadata": {
        "id": "73kmPMBArlA8"
      },
      "execution_count": null,
      "outputs": []
    },
    {
      "cell_type": "markdown",
      "source": [
        "visualizzare i film fantasy e i thriller"
      ],
      "metadata": {
        "id": "TITBCTsWr2yU"
      }
    },
    {
      "cell_type": "code",
      "source": [
        "df[(df['Genres'].str.contains('Fantasy')) | (df['Genres'].str.contains('Thriller'))]"
      ],
      "metadata": {
        "id": "oKnFp1g5tNfM"
      },
      "execution_count": null,
      "outputs": []
    },
    {
      "cell_type": "markdown",
      "source": [
        "visualizzare il budget complessivo dei film realizzati in Spagna"
      ],
      "metadata": {
        "id": "QmLEFX5MtONM"
      }
    },
    {
      "cell_type": "code",
      "source": [
        "df[df['Country'] == 'Spain']['Budget'].sum()"
      ],
      "metadata": {
        "id": "M4QwI4KYtOg0"
      },
      "execution_count": null,
      "outputs": []
    },
    {
      "cell_type": "markdown",
      "source": [
        " visualizzare il numero di film di guerra realizzati in Spagna"
      ],
      "metadata": {
        "id": "m4qq7JX1tmJM"
      }
    },
    {
      "cell_type": "code",
      "source": [
        "len(df[(df['Country'] == 'Spain') & (df['Genres'].str.contains ('War'))])"
      ],
      "metadata": {
        "id": "lJiPrORdtnhc"
      },
      "execution_count": null,
      "outputs": []
    },
    {
      "cell_type": "code",
      "source": [
        "df[(df['Country'] == 'Spain') & (df['Genres'].str.contains ('War'))]['Title'].count()"
      ],
      "metadata": {
        "id": "WTOZs7ZSvZ_M"
      },
      "execution_count": null,
      "outputs": []
    },
    {
      "cell_type": "markdown",
      "source": [
        "visualizzare i titoli dei film di cui non si conosce il budget"
      ],
      "metadata": {
        "id": "1a9iM-iwtn4c"
      }
    },
    {
      "cell_type": "code",
      "source": [
        "df[df['Budget'].isnull()][['Title']]"
      ],
      "metadata": {
        "id": "vZ6D9ibyuLb9"
      },
      "execution_count": null,
      "outputs": []
    },
    {
      "cell_type": "markdown",
      "source": [
        "visualizzare i titoli dei film e il relativo regista. Ordinare a partire dal film che ha il budget più alto"
      ],
      "metadata": {
        "id": "mZMET4equL10"
      }
    },
    {
      "cell_type": "code",
      "source": [
        "df.sort_values(by = 'Budget', ascending = False)[['Title', 'Director']]"
      ],
      "metadata": {
        "id": "KGzQ8izguOHO"
      },
      "execution_count": null,
      "outputs": []
    },
    {
      "cell_type": "markdown",
      "source": [
        "visualizzare i titoli dei film che hanno incassato più di quanto è stato speso per realizzarli"
      ],
      "metadata": {
        "id": "uZ-oEF_Wvs7c"
      }
    },
    {
      "cell_type": "code",
      "source": [
        "df[df['Budget'] < df['Gross Earnings']][['Title']]"
      ],
      "metadata": {
        "id": "bHwUqNzFv8YM"
      },
      "execution_count": null,
      "outputs": []
    },
    {
      "cell_type": "markdown",
      "source": [
        "visualizzare i film in cui ha recitato Johnny Depp"
      ],
      "metadata": {
        "id": "Mlw8IMlOwhID"
      }
    },
    {
      "cell_type": "code",
      "source": [
        "df[df['Actor 1'] == 'Johnny Depp'] \n",
        "#alone"
      ],
      "metadata": {
        "id": "4Zk261_Uwiq8"
      },
      "execution_count": null,
      "outputs": []
    },
    {
      "cell_type": "markdown",
      "source": [
        "visualizzare il regista che ha ricevuto più like su Facebook per un suo film"
      ],
      "metadata": {
        "id": "jTTUg1ctxHA-"
      }
    },
    {
      "cell_type": "code",
      "source": [
        "df['Facebook Likes - Director']['Director'].max()"
      ],
      "metadata": {
        "id": "pjNNNrB6x0k8"
      },
      "execution_count": null,
      "outputs": []
    }
  ]
}