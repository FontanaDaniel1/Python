{
  "nbformat": 4,
  "nbformat_minor": 0,
  "metadata": {
    "colab": {
      "provenance": [],
      "authorship_tag": "ABX9TyOPpjHuuRc/WJzoYKJZI2vY",
      "include_colab_link": true
    },
    "kernelspec": {
      "name": "python3",
      "display_name": "Python 3"
    },
    "language_info": {
      "name": "python"
    }
  },
  "cells": [
    {
      "cell_type": "markdown",
      "metadata": {
        "id": "view-in-github",
        "colab_type": "text"
      },
      "source": [
        "<a href=\"https://colab.research.google.com/github/FontanaDaniel1/Python/blob/main/Verifica_liste.ipynb\" target=\"_parent\"><img src=\"https://colab.research.google.com/assets/colab-badge.svg\" alt=\"Open In Colab\"/></a>"
      ]
    },
    {
      "cell_type": "markdown",
      "source": [
        "1.1. ordinare i nomi delle province in ordine alfabetico"
      ],
      "metadata": {
        "id": "hxLEPHh4ae3a"
      }
    },
    {
      "cell_type": "code",
      "execution_count": null,
      "metadata": {
        "id": "NjBDvTmaaE8d",
        "colab": {
          "base_uri": "https://localhost:8080/"
        },
        "outputId": "86160cc7-0e40-4f81-8c31-1bb9ed67a5d1"
      },
      "outputs": [
        {
          "output_type": "stream",
          "name": "stdout",
          "text": [
            "['Bergamo', 'Brescia', 'Como', 'Cremona', 'Lecco', 'Lodi', 'Mantova', 'Milano', 'Monza e della Brianza', 'Pavia', 'Sondrio', 'Varese']\n"
          ]
        }
      ],
      "source": [
        "province = [\"Bergamo\", \"Brescia\", \"Como\", \"Cremona\", \"Lecco\", \"Lodi\", \"Mantova\", \"Milano\", \"Monza e della Brianza\", \"Pavia\", \"Sondrio\", \"Varese\"]\n",
        "#province.sort()\n",
        "print(province)"
      ]
    },
    {
      "cell_type": "markdown",
      "source": [
        "1.2. visualizzare i nomi delle ultime 3 province"
      ],
      "metadata": {
        "id": "ZQTlgMueanTq"
      }
    },
    {
      "cell_type": "code",
      "source": [
        "print(province[-3:])"
      ],
      "metadata": {
        "id": "DkCHe4n7c1PS"
      },
      "execution_count": null,
      "outputs": []
    },
    {
      "cell_type": "markdown",
      "source": [
        "1.3 cercare in quale posizione si trova la provincia di Milano nell'elenco"
      ],
      "metadata": {
        "id": "hhfFEfJLary5"
      }
    },
    {
      "cell_type": "code",
      "source": [
        "print(province.index(\"Milano\"))"
      ],
      "metadata": {
        "id": "lfAWA24jdxw5"
      },
      "execution_count": null,
      "outputs": []
    },
    {
      "cell_type": "markdown",
      "source": [
        "1.4 visualizzare il nome di 3 province a caso"
      ],
      "metadata": {
        "id": "l1DM7TVodYyp"
      }
    },
    {
      "cell_type": "code",
      "source": [
        "import random\n",
        "print(random.choice(province))\n",
        "import random\n",
        "print(random.choice(province))\n",
        "import random\n",
        "print(random.choice(province))"
      ],
      "metadata": {
        "id": "O2WvW3-7d6Vh"
      },
      "execution_count": null,
      "outputs": []
    },
    {
      "cell_type": "markdown",
      "source": [
        "1.5 visualizzare il nome di 3 province a caso. fare in modo che i nomi delle province non possano presentarsi più volte"
      ],
      "metadata": {
        "id": "HKEUFwujdczR"
      }
    },
    {
      "cell_type": "code",
      "source": [
        "import random\n",
        "print(random.choice(province))\n",
        "import random\n",
        "print(random.choice(province))\n",
        "import random\n",
        "print(random.choice(province))\n",
        "\n",
        "listAppoggio = []\n",
        " \n",
        "for element in province:\n",
        "    if element not in listAppoggio:\n",
        "        listAppoggio.append(element)\n",
        "\n",
        "print(listAppoggio)"
      ],
      "metadata": {
        "id": "8zJlipP_d-CB"
      },
      "execution_count": null,
      "outputs": []
    },
    {
      "cell_type": "markdown",
      "source": [
        "1.6 modificare la lista in modo che Monza e della Brianza sia divisa in Monza e Brianza"
      ],
      "metadata": {
        "id": "jSLUC91smKv6"
      }
    },
    {
      "cell_type": "code",
      "source": [
        "x = \"Monza e della Brianza\"\n",
        "indice = province.index(x)\n",
        "province.pop(indice)\n",
        "\n",
        "newProvince = x.split(\" e della \") # vettore con la separazione(Monza/Brianza)\n",
        "#se assume + di 1 valore diventa un vettore\n",
        "\n",
        "province.insert(indice, newProvince[0])\n",
        "province.insert(indice + 1, newProvince[1])\n",
        "\n",
        "\n",
        "#province.insert (8,\"Monza\")\n",
        "#province.insert (9,\"Brianza\")\n",
        "\n",
        "\n",
        "#for newprov in newProvince:\n",
        " #province.insert(indice, newprov)\n",
        " #indice = indice + 1\n",
        "\n",
        "print(province)"
      ],
      "metadata": {
        "id": "g54-1cZqmKUa"
      },
      "execution_count": null,
      "outputs": []
    },
    {
      "cell_type": "markdown",
      "source": [
        "2.1 caricare una lista con i primi 50 multipli di 5"
      ],
      "metadata": {
        "id": "tqnTsqJ6d-nZ"
      }
    },
    {
      "cell_type": "code",
      "source": [
        "multipli5 = [5, 10, 15, 20, 25, 30, 35, 40, 45, 50, 55, 60, 65, 70, 75, 80, 85, 90, 95, 100, 105, 110, 115, 120, 125, 130, 135, 140, 145, 150, 155, 160, 165, 170, 175, 180, 185, 190, 195, 200, 205, 210, 215, 220, 225, 230, 235, 240, 245, 250 ]\n",
        "len(multipli5)"
      ],
      "metadata": {
        "id": "1PQtgEJWeGBR"
      },
      "execution_count": null,
      "outputs": []
    },
    {
      "cell_type": "markdown",
      "source": [
        "2.2 caricare in una nuova lista solo i mulitipli di 10"
      ],
      "metadata": {
        "id": "Q6orj6-UfDfB"
      }
    },
    {
      "cell_type": "code",
      "source": [
        "multipli10 = [10, 20, 30, 40, 50, 60, 70, 80, 90, 100, 110, 120, 130, 140, 150, 160, 170, 180, 190, 200, 210, 220, 230, 240, 250]"
      ],
      "metadata": {
        "id": "W53TqqDrfJyr"
      },
      "execution_count": null,
      "outputs": []
    },
    {
      "cell_type": "markdown",
      "source": [
        "2.3 eliminare dalla seconda lista tutti i valori compresi tra 30 e 60. visuliazzare il num di elementi rimasti nella lista e il num di quelli eliminati"
      ],
      "metadata": {
        "id": "yz-TJ64pfrqR"
      }
    },
    {
      "cell_type": "code",
      "source": [
        "del multipli10[2:6]\n",
        "print(len(multipli10))\n",
        "print(len(multipli10[2:6]))"
      ],
      "metadata": {
        "id": "SUfMIMtrfrY5",
        "colab": {
          "base_uri": "https://localhost:8080/"
        },
        "outputId": "200b4c00-95ce-4d5f-989e-8adcb462be94"
      },
      "execution_count": null,
      "outputs": [
        {
          "output_type": "stream",
          "name": "stdout",
          "text": [
            "21\n",
            "4\n"
          ]
        }
      ]
    },
    {
      "cell_type": "markdown",
      "source": [
        "2.4. caricare in una nuova lista i 5 elementi centrali"
      ],
      "metadata": {
        "id": "zOkYyagBjyY5"
      }
    },
    {
      "cell_type": "code",
      "source": [
        "elementiCentrali = (multipli10[6:11])\n",
        "print(elementiCentrali)"
      ],
      "metadata": {
        "id": "w-g5WZPEj3_h",
        "colab": {
          "base_uri": "https://localhost:8080/"
        },
        "outputId": "39af9d42-bf1d-4ffe-c8d6-595649b18747"
      },
      "execution_count": null,
      "outputs": [
        {
          "output_type": "stream",
          "name": "stdout",
          "text": [
            "[110, 120, 130, 140, 150]\n"
          ]
        }
      ]
    },
    {
      "cell_type": "markdown",
      "source": [
        "2.5. moltiplicare per 10 tutti i numeri della lista precendete"
      ],
      "metadata": {
        "id": "GeqDew19j4VR"
      }
    },
    {
      "cell_type": "code",
      "source": [
        "for valore in elementiCentrali:\n",
        "  valore = valore * 10\n",
        "  print((valore ))"
      ],
      "metadata": {
        "id": "dcUDTLwEkqTB",
        "colab": {
          "base_uri": "https://localhost:8080/"
        },
        "outputId": "a85d8d15-3145-4043-b2fb-babb54003426"
      },
      "execution_count": null,
      "outputs": [
        {
          "output_type": "stream",
          "name": "stdout",
          "text": [
            "1100\n",
            "1200\n",
            "1300\n",
            "1400\n",
            "1500\n"
          ]
        }
      ]
    },
    {
      "cell_type": "code",
      "source": [
        "#moltiplicati = [valore for numero in elementiCentrali(numero = numero * 10)]\n",
        "\n",
        "#differenzareti = [golfatti[indice]-golsubiti[indice] for indice in range(len(golsubiti))]"
      ],
      "metadata": {
        "id": "BptYEEDBgLl2"
      },
      "execution_count": null,
      "outputs": []
    },
    {
      "cell_type": "markdown",
      "source": [
        "2.6 mettere in un unica lista tutti i valori preswenti nelle liste precendentemente create"
      ],
      "metadata": {
        "id": "GaJ6hS1bj4Oh"
      }
    },
    {
      "cell_type": "code",
      "source": [
        "lista = []\n",
        "lista.extend (elementiCentrali)\n",
        "lista.extend (multipli10)\n",
        "lista.extend (multipli5)\n",
        "print(lista)"
      ],
      "metadata": {
        "id": "fj17oZb6kLDh",
        "colab": {
          "base_uri": "https://localhost:8080/"
        },
        "outputId": "63fba600-ad99-41d5-bb73-e389d3574080"
      },
      "execution_count": null,
      "outputs": [
        {
          "output_type": "stream",
          "name": "stdout",
          "text": [
            "[110, 120, 130, 140, 150, 10, 20, 70, 80, 90, 100, 110, 120, 130, 140, 150, 160, 170, 180, 190, 200, 210, 220, 230, 240, 250, 5, 10, 15, 20, 25, 30, 35, 40, 45, 50, 55, 60, 65, 70, 75, 80, 85, 90, 95, 100, 105, 110, 115, 120, 125, 130, 135, 140, 145, 150, 155, 160, 165, 170, 175, 180, 185, 190, 195, 200, 205, 210, 215, 220, 225, 230, 235, 240, 245, 250]\n"
          ]
        }
      ]
    }
  ]
}