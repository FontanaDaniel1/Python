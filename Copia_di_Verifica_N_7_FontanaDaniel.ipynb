{
  "nbformat": 4,
  "nbformat_minor": 0,
  "metadata": {
    "colab": {
      "provenance": [],
      "authorship_tag": "ABX9TyPYOFiKyRALwXcd9Y2ozYqz",
      "include_colab_link": true
    },
    "kernelspec": {
      "name": "python3",
      "display_name": "Python 3"
    },
    "language_info": {
      "name": "python"
    }
  },
  "cells": [
    {
      "cell_type": "markdown",
      "metadata": {
        "id": "view-in-github",
        "colab_type": "text"
      },
      "source": [
        "<a href=\"https://colab.research.google.com/github/FontanaDaniel1/Python/blob/main/Copia_di_Verifica_N_7_FontanaDaniel.ipynb\" target=\"_parent\"><img src=\"https://colab.research.google.com/assets/colab-badge.svg\" alt=\"Open In Colab\"/></a>"
      ]
    },
    {
      "cell_type": "markdown",
      "source": [
        "1.1. ordinare i nomi delle province in ordine alfabetico"
      ],
      "metadata": {
        "id": "hxLEPHh4ae3a"
      }
    },
    {
      "cell_type": "code",
      "execution_count": null,
      "metadata": {
        "colab": {
          "base_uri": "https://localhost:8080/"
        },
        "id": "NjBDvTmaaE8d",
        "outputId": "0419ba63-be6f-4e16-ffcf-f2c7b8e264c2"
      },
      "outputs": [
        {
          "output_type": "stream",
          "name": "stdout",
          "text": [
            "['Bergamo', 'Brescia', 'Como', 'Cremona', 'Lecco', 'Lodi', 'Mantova', 'Milano', 'Monza e della Brianza', 'Pavia', 'Sondrio', 'Varese']\n"
          ]
        }
      ],
      "source": [
        "province = [\"Bergamo\", \"Brescia\", \"Como\", \"Cremona\", \"Lecco\", \"Lodi\", \"Mantova\", \"Milano\", \"Monza e della Brianza\", \"Pavia\", \"Sondrio\", \"Varese\"]\n",
        "province.sort()\n",
        "print(province)"
      ]
    },
    {
      "cell_type": "markdown",
      "source": [
        "1.2. visualizzare i nomi delle ultime 3 province"
      ],
      "metadata": {
        "id": "ZQTlgMueanTq"
      }
    },
    {
      "cell_type": "code",
      "source": [
        "print(province[-3:])"
      ],
      "metadata": {
        "colab": {
          "base_uri": "https://localhost:8080/"
        },
        "id": "DkCHe4n7c1PS",
        "outputId": "9008647b-d777-4c96-fdc2-adac3c140b66"
      },
      "execution_count": null,
      "outputs": [
        {
          "output_type": "stream",
          "name": "stdout",
          "text": [
            "['Pavia', 'Sondrio', 'Varese']\n"
          ]
        }
      ]
    },
    {
      "cell_type": "markdown",
      "source": [
        "1.3 cercare in quale posizione si trova la provincia di Milano nell'elenco"
      ],
      "metadata": {
        "id": "hhfFEfJLary5"
      }
    },
    {
      "cell_type": "code",
      "source": [
        "print(province.index(\"Milano\"))"
      ],
      "metadata": {
        "colab": {
          "base_uri": "https://localhost:8080/"
        },
        "id": "lfAWA24jdxw5",
        "outputId": "33be0774-7c82-41a7-fc96-8214f77714f4"
      },
      "execution_count": null,
      "outputs": [
        {
          "output_type": "stream",
          "name": "stdout",
          "text": [
            "7\n"
          ]
        }
      ]
    },
    {
      "cell_type": "markdown",
      "source": [
        "1.4 visualizzare il nome di 3 province a caso"
      ],
      "metadata": {
        "id": "l1DM7TVodYyp"
      }
    },
    {
      "cell_type": "code",
      "source": [
        "import random\n",
        "print(random.choice(province))\n",
        "import random\n",
        "print(random.choice(province))\n",
        "import random\n",
        "print(random.choice(province))"
      ],
      "metadata": {
        "colab": {
          "base_uri": "https://localhost:8080/"
        },
        "id": "O2WvW3-7d6Vh",
        "outputId": "b6c12698-a998-40fa-f51b-1f443eb5899b"
      },
      "execution_count": null,
      "outputs": [
        {
          "output_type": "stream",
          "name": "stdout",
          "text": [
            "Cremona\n",
            "Brescia\n",
            "Sondrio\n"
          ]
        }
      ]
    },
    {
      "cell_type": "markdown",
      "source": [
        "1.5 visualizzare il nome di 3 province a caso. fare in modo che i nomi delle province non possano presentarsi più volte"
      ],
      "metadata": {
        "id": "HKEUFwujdczR"
      }
    },
    {
      "cell_type": "code",
      "source": [
        "import random\n",
        "print(random.choice(province))\n",
        "import random\n",
        "print(random.choice(province))\n",
        "import random\n",
        "print(random.choice(province))\n",
        "\n",
        "listAppoggio = []\n",
        " \n",
        "for element in province:\n",
        "    if element not in listAppoggio:\n",
        "        listAppoggio.append(element)\n",
        "\n",
        "print(listAppoggio)"
      ],
      "metadata": {
        "colab": {
          "base_uri": "https://localhost:8080/"
        },
        "id": "8zJlipP_d-CB",
        "outputId": "68c73e37-a2d6-4e1f-8ebc-83e06bf20f15"
      },
      "execution_count": null,
      "outputs": [
        {
          "output_type": "stream",
          "name": "stdout",
          "text": [
            "Lecco\n",
            "Como\n",
            "Lecco\n",
            "['Bergamo', 'Brescia', 'Como', 'Cremona', 'Lecco', 'Lodi', 'Mantova', 'Milano', 'Monza e della Brianza', 'Pavia', 'Sondrio', 'Varese']\n"
          ]
        }
      ]
    },
    {
      "cell_type": "markdown",
      "source": [
        "1.6 modificare la lista in modo che Monza e della Brianza sia divisa in Monza e Brianza"
      ],
      "metadata": {
        "id": "jSLUC91smKv6"
      }
    },
    {
      "cell_type": "code",
      "source": [],
      "metadata": {
        "id": "g54-1cZqmKUa"
      },
      "execution_count": null,
      "outputs": []
    },
    {
      "cell_type": "markdown",
      "source": [
        "2.1 caricare una lista con i primi 50 multipli di 5"
      ],
      "metadata": {
        "id": "tqnTsqJ6d-nZ"
      }
    },
    {
      "cell_type": "code",
      "source": [
        "multipli5 = [5, 10, 15, 20, 25, 30, 35, 40, 45, 50, 55, 60, 65, 70, 75, 80, 85, 90, 95, 100, 105, 110, 115, 120, 125, 130, 135, 140, 145, 150, 155, 160, 165, 170, 175, 180, 185, 190, 195, 200, 205, 210, 215, 220, 225, 230, 235, 240, 245, 250 ]\n",
        "len(multipli5)"
      ],
      "metadata": {
        "id": "1PQtgEJWeGBR"
      },
      "execution_count": null,
      "outputs": []
    },
    {
      "cell_type": "markdown",
      "source": [
        "2.2 caricare in una nuova lista solo i mulitipli di 10"
      ],
      "metadata": {
        "id": "Q6orj6-UfDfB"
      }
    },
    {
      "cell_type": "code",
      "source": [
        "multipli10 = [10, 20, 30, 40, 50, 60, 70, 80, 90, 100, 110, 120, 130, 140, 150, 160, 170, 180, 190, 200, 210, 220, 230, 240, 250]"
      ],
      "metadata": {
        "id": "W53TqqDrfJyr"
      },
      "execution_count": null,
      "outputs": []
    },
    {
      "cell_type": "markdown",
      "source": [
        "2.3 eliminare dalla seconda lista tutti i valori compresi tra 30 e 60. visuliazzare il num di elementi rimasti nella lista e il num di quelli eliminati"
      ],
      "metadata": {
        "id": "yz-TJ64pfrqR"
      }
    },
    {
      "cell_type": "code",
      "source": [
        "del multipli10[2:6]\n",
        "print(len(multipli10))\n",
        "print(len(multipli10[2:6]))"
      ],
      "metadata": {
        "colab": {
          "base_uri": "https://localhost:8080/"
        },
        "id": "SUfMIMtrfrY5",
        "outputId": "791b23ad-e632-44a1-fc94-78418baf427f"
      },
      "execution_count": null,
      "outputs": [
        {
          "output_type": "stream",
          "name": "stdout",
          "text": [
            "17\n",
            "4\n"
          ]
        }
      ]
    },
    {
      "cell_type": "markdown",
      "source": [
        "2.4. caricare in una nuova lista i 5 elementi centrali"
      ],
      "metadata": {
        "id": "zOkYyagBjyY5"
      }
    },
    {
      "cell_type": "code",
      "source": [
        "elementiCentrali = (multipli10[4:10])\n",
        "print(elementiCentrali)"
      ],
      "metadata": {
        "colab": {
          "base_uri": "https://localhost:8080/"
        },
        "id": "w-g5WZPEj3_h",
        "outputId": "b512ed99-9815-4e3a-eb3c-fdd045fbbe41"
      },
      "execution_count": null,
      "outputs": [
        {
          "output_type": "stream",
          "name": "stdout",
          "text": [
            "[90, 100, 110, 120, 130, 140]\n"
          ]
        }
      ]
    },
    {
      "cell_type": "markdown",
      "source": [
        "2.5. moltiplicare per 10 tutti i numeri della lista precendete"
      ],
      "metadata": {
        "id": "GeqDew19j4VR"
      }
    },
    {
      "cell_type": "code",
      "source": [],
      "metadata": {
        "id": "dcUDTLwEkqTB"
      },
      "execution_count": null,
      "outputs": []
    },
    {
      "cell_type": "markdown",
      "source": [
        "2.6 mettere in un unica lista tutti i valori preswenti nelle liste precendentemente create"
      ],
      "metadata": {
        "id": "GaJ6hS1bj4Oh"
      }
    },
    {
      "cell_type": "code",
      "source": [],
      "metadata": {
        "id": "fj17oZb6kLDh"
      },
      "execution_count": null,
      "outputs": []
    }
  ]
}